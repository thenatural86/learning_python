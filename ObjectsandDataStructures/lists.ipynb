{
 "cells": [
  {
   "cell_type": "code",
   "execution_count": 1,
   "id": "7f64f03b-f0b1-4486-bdab-a94a3a63118c",
   "metadata": {},
   "outputs": [],
   "source": [
    "my_list = [1,2,3]"
   ]
  },
  {
   "cell_type": "code",
   "execution_count": 3,
   "id": "da6c47c3-467e-418b-b686-f69769a99e0f",
   "metadata": {},
   "outputs": [
    {
     "data": {
      "text/plain": [
       "[1, 2, 3]"
      ]
     },
     "execution_count": 3,
     "metadata": {},
     "output_type": "execute_result"
    }
   ],
   "source": [
    "my_list"
   ]
  },
  {
   "cell_type": "code",
   "execution_count": 5,
   "id": "a8169457-64ae-4c04-a7c9-1304df2d8958",
   "metadata": {},
   "outputs": [
    {
     "data": {
      "text/plain": [
       "3"
      ]
     },
     "execution_count": 5,
     "metadata": {},
     "output_type": "execute_result"
    }
   ],
   "source": [
    "len(my_list)"
   ]
  },
  {
   "cell_type": "code",
   "execution_count": 7,
   "id": "7a25a9e6-c8a2-443e-a723-6d43ac19a3bb",
   "metadata": {},
   "outputs": [
    {
     "data": {
      "text/plain": [
       "1"
      ]
     },
     "execution_count": 7,
     "metadata": {},
     "output_type": "execute_result"
    }
   ],
   "source": [
    "my_list[0]"
   ]
  },
  {
   "cell_type": "code",
   "execution_count": 9,
   "id": "9b40b77f-b7f0-4c1f-b502-b6a1e069c741",
   "metadata": {},
   "outputs": [
    {
     "data": {
      "text/plain": [
       "[2, 3]"
      ]
     },
     "execution_count": 9,
     "metadata": {},
     "output_type": "execute_result"
    }
   ],
   "source": [
    "my_list[1:]"
   ]
  },
  {
   "cell_type": "code",
   "execution_count": 11,
   "id": "b35dab59-3d50-425a-897f-2c56d70f83a3",
   "metadata": {},
   "outputs": [],
   "source": [
    "another_list = ['four', 'five']"
   ]
  },
  {
   "cell_type": "code",
   "execution_count": 15,
   "id": "1fbaff35-a2aa-4325-8c0e-bb7c75b3011f",
   "metadata": {},
   "outputs": [],
   "source": [
    "new_list= my_list + another_list"
   ]
  },
  {
   "cell_type": "code",
   "execution_count": 17,
   "id": "8f64c762-5530-4bfd-af1a-622874d0b41b",
   "metadata": {},
   "outputs": [
    {
     "data": {
      "text/plain": [
       "[1, 2, 3, 'four', 'five']"
      ]
     },
     "execution_count": 17,
     "metadata": {},
     "output_type": "execute_result"
    }
   ],
   "source": [
    "new_list"
   ]
  },
  {
   "cell_type": "code",
   "execution_count": 19,
   "id": "cd632757-1071-4f5c-9314-2dae48369c43",
   "metadata": {},
   "outputs": [],
   "source": [
    "new_list[0] = 'ONE ALL CAPS'"
   ]
  },
  {
   "cell_type": "code",
   "execution_count": 21,
   "id": "b2381c15-b74b-4752-9934-ab859e905dbd",
   "metadata": {},
   "outputs": [
    {
     "data": {
      "text/plain": [
       "['ONE ALL CAPS', 2, 3, 'four', 'five']"
      ]
     },
     "execution_count": 21,
     "metadata": {},
     "output_type": "execute_result"
    }
   ],
   "source": [
    "new_list"
   ]
  },
  {
   "cell_type": "code",
   "execution_count": 23,
   "id": "5e7d844d-90aa-4ef7-970d-94a2046448d6",
   "metadata": {},
   "outputs": [],
   "source": [
    "new_list.append('six')"
   ]
  },
  {
   "cell_type": "code",
   "execution_count": 25,
   "id": "bf8c365e-2e35-4ff3-9649-795fb2db8bb5",
   "metadata": {},
   "outputs": [
    {
     "data": {
      "text/plain": [
       "['ONE ALL CAPS', 2, 3, 'four', 'five', 'six']"
      ]
     },
     "execution_count": 25,
     "metadata": {},
     "output_type": "execute_result"
    }
   ],
   "source": [
    "new_list"
   ]
  },
  {
   "cell_type": "code",
   "execution_count": 27,
   "id": "69383e60-ecbe-48a6-a26a-eddd620ec07a",
   "metadata": {},
   "outputs": [],
   "source": [
    "new_list.append('seven')"
   ]
  },
  {
   "cell_type": "code",
   "execution_count": 29,
   "id": "2333cd45-0cc1-45a3-bff0-f4d24be79609",
   "metadata": {},
   "outputs": [
    {
     "data": {
      "text/plain": [
       "['ONE ALL CAPS', 2, 3, 'four', 'five', 'six', 'seven']"
      ]
     },
     "execution_count": 29,
     "metadata": {},
     "output_type": "execute_result"
    }
   ],
   "source": [
    "new_list"
   ]
  },
  {
   "cell_type": "code",
   "execution_count": 31,
   "id": "f21d7559-2082-49de-9073-b87117209c4f",
   "metadata": {},
   "outputs": [
    {
     "data": {
      "text/plain": [
       "'seven'"
      ]
     },
     "execution_count": 31,
     "metadata": {},
     "output_type": "execute_result"
    }
   ],
   "source": [
    "new_list.pop()"
   ]
  },
  {
   "cell_type": "code",
   "execution_count": 33,
   "id": "73df8e34-f525-412a-8155-7b921b23158f",
   "metadata": {},
   "outputs": [
    {
     "data": {
      "text/plain": [
       "['ONE ALL CAPS', 2, 3, 'four', 'five', 'six']"
      ]
     },
     "execution_count": 33,
     "metadata": {},
     "output_type": "execute_result"
    }
   ],
   "source": [
    "new_list"
   ]
  },
  {
   "cell_type": "code",
   "execution_count": 35,
   "id": "534d90fb-7f06-4b3c-87a8-579bda1c5ebc",
   "metadata": {},
   "outputs": [],
   "source": [
    "popped_item = new_list.pop()"
   ]
  },
  {
   "cell_type": "code",
   "execution_count": 37,
   "id": "53a7aa84-e6f4-4fed-b963-66a6e292d79b",
   "metadata": {},
   "outputs": [
    {
     "data": {
      "text/plain": [
       "'six'"
      ]
     },
     "execution_count": 37,
     "metadata": {},
     "output_type": "execute_result"
    }
   ],
   "source": [
    "popped_item"
   ]
  },
  {
   "cell_type": "code",
   "execution_count": 39,
   "id": "a8f681b0-b31d-48fd-9e82-01b0abf603d7",
   "metadata": {},
   "outputs": [
    {
     "data": {
      "text/plain": [
       "['ONE ALL CAPS', 2, 3, 'four', 'five']"
      ]
     },
     "execution_count": 39,
     "metadata": {},
     "output_type": "execute_result"
    }
   ],
   "source": [
    "new_list"
   ]
  },
  {
   "cell_type": "code",
   "execution_count": 41,
   "id": "d286024c-edc0-4ce4-9d40-6f3119df58f3",
   "metadata": {},
   "outputs": [
    {
     "data": {
      "text/plain": [
       "'ONE ALL CAPS'"
      ]
     },
     "execution_count": 41,
     "metadata": {},
     "output_type": "execute_result"
    }
   ],
   "source": [
    "new_list.pop(0)"
   ]
  },
  {
   "cell_type": "code",
   "execution_count": 43,
   "id": "3b0373d3-9e53-4cb2-a49f-a5e6a40f1dcd",
   "metadata": {},
   "outputs": [
    {
     "data": {
      "text/plain": [
       "[2, 3, 'four', 'five']"
      ]
     },
     "execution_count": 43,
     "metadata": {},
     "output_type": "execute_result"
    }
   ],
   "source": [
    "new_list"
   ]
  },
  {
   "cell_type": "code",
   "execution_count": 45,
   "id": "18c2958c-a1a5-4f62-b945-ce4b7bdcfdc6",
   "metadata": {},
   "outputs": [],
   "source": [
    "new_list = ['a', 'e', 'x', 'b', 'c']"
   ]
  },
  {
   "cell_type": "code",
   "execution_count": 47,
   "id": "7a6b2422-7b41-4031-b862-0166367f7ea2",
   "metadata": {},
   "outputs": [],
   "source": [
    "num_list = [4,1,8,3]"
   ]
  },
  {
   "cell_type": "code",
   "execution_count": 49,
   "id": "4eb525f3-50cf-4248-8c0f-93bc0f109145",
   "metadata": {},
   "outputs": [],
   "source": [
    "new_list.sort()"
   ]
  },
  {
   "cell_type": "code",
   "execution_count": 51,
   "id": "4181d0d0-89b8-41d4-80c1-7232e7a4f381",
   "metadata": {},
   "outputs": [
    {
     "data": {
      "text/plain": [
       "['a', 'b', 'c', 'e', 'x']"
      ]
     },
     "execution_count": 51,
     "metadata": {},
     "output_type": "execute_result"
    }
   ],
   "source": [
    "new_list"
   ]
  },
  {
   "cell_type": "code",
   "execution_count": 53,
   "id": "30f4e756-6184-4806-90a3-19e32b21e379",
   "metadata": {},
   "outputs": [
    {
     "data": {
      "text/plain": [
       "['a', 'b', 'c', 'e', 'x']"
      ]
     },
     "execution_count": 53,
     "metadata": {},
     "output_type": "execute_result"
    }
   ],
   "source": [
    "new_list"
   ]
  },
  {
   "cell_type": "code",
   "execution_count": 55,
   "id": "111236ae-57c9-447d-8a05-2808ba1703c3",
   "metadata": {},
   "outputs": [
    {
     "data": {
      "text/plain": [
       "[4, 1, 8, 3]"
      ]
     },
     "execution_count": 55,
     "metadata": {},
     "output_type": "execute_result"
    }
   ],
   "source": [
    "num_list"
   ]
  },
  {
   "cell_type": "code",
   "execution_count": 57,
   "id": "5d491d53-0652-409a-9e32-176e7281edfc",
   "metadata": {},
   "outputs": [],
   "source": [
    "num_list.sort()"
   ]
  },
  {
   "cell_type": "code",
   "execution_count": 59,
   "id": "84d7738f-b14c-45cf-a6e7-3b4cd9eea300",
   "metadata": {},
   "outputs": [
    {
     "data": {
      "text/plain": [
       "[1, 3, 4, 8]"
      ]
     },
     "execution_count": 59,
     "metadata": {},
     "output_type": "execute_result"
    }
   ],
   "source": [
    "num_list"
   ]
  },
  {
   "cell_type": "code",
   "execution_count": 61,
   "id": "1219f72a-a331-44f7-a6d4-293266e0079b",
   "metadata": {},
   "outputs": [],
   "source": [
    "num_list.reverse()"
   ]
  },
  {
   "cell_type": "code",
   "execution_count": 63,
   "id": "40dda60f-04a4-419e-be16-02d3a84d1f6e",
   "metadata": {},
   "outputs": [
    {
     "data": {
      "text/plain": [
       "[8, 4, 3, 1]"
      ]
     },
     "execution_count": 63,
     "metadata": {},
     "output_type": "execute_result"
    }
   ],
   "source": [
    "num_list"
   ]
  },
  {
   "cell_type": "code",
   "execution_count": null,
   "id": "759cc864-22c6-4184-8418-43b388a88959",
   "metadata": {},
   "outputs": [],
   "source": []
  }
 ],
 "metadata": {
  "kernelspec": {
   "display_name": "Python 3 (ipykernel)",
   "language": "python",
   "name": "python3"
  },
  "language_info": {
   "codemirror_mode": {
    "name": "ipython",
    "version": 3
   },
   "file_extension": ".py",
   "mimetype": "text/x-python",
   "name": "python",
   "nbconvert_exporter": "python",
   "pygments_lexer": "ipython3",
   "version": "3.12.4"
  }
 },
 "nbformat": 4,
 "nbformat_minor": 5
}
