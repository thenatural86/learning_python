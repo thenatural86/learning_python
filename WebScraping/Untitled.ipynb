{
 "cells": [
  {
   "cell_type": "code",
   "execution_count": 2,
   "id": "a881f0fc-fc07-4925-bc11-d66c2df1a246",
   "metadata": {},
   "outputs": [],
   "source": [
    "import requests"
   ]
  },
  {
   "cell_type": "code",
   "execution_count": 3,
   "id": "ba6a075f-9c8d-4c88-a6e9-12b9c1e3bd11",
   "metadata": {},
   "outputs": [],
   "source": [
    "import bs4"
   ]
  },
  {
   "cell_type": "code",
   "execution_count": 4,
   "id": "c31d96e9-2abc-4cf3-a478-48b168336bdb",
   "metadata": {},
   "outputs": [],
   "source": [
    "res = requests.get(\"http://www.example.com\")"
   ]
  },
  {
   "cell_type": "code",
   "execution_count": 5,
   "id": "a4ed95a2-55ad-43c4-b88a-9fe331965082",
   "metadata": {},
   "outputs": [
    {
     "data": {
      "text/plain": [
       "requests.models.Response"
      ]
     },
     "execution_count": 5,
     "metadata": {},
     "output_type": "execute_result"
    }
   ],
   "source": [
    "type(res)"
   ]
  },
  {
   "cell_type": "code",
   "execution_count": 6,
   "id": "03c699c9-fef3-4576-80a6-43d95338937d",
   "metadata": {},
   "outputs": [
    {
     "data": {
      "text/plain": [
       "'<!doctype html>\\n<html>\\n<head>\\n    <title>Example Domain</title>\\n\\n    <meta charset=\"utf-8\" />\\n    <meta http-equiv=\"Content-type\" content=\"text/html; charset=utf-8\" />\\n    <meta name=\"viewport\" content=\"width=device-width, initial-scale=1\" />\\n    <style type=\"text/css\">\\n    body {\\n        background-color: #f0f0f2;\\n        margin: 0;\\n        padding: 0;\\n        font-family: -apple-system, system-ui, BlinkMacSystemFont, \"Segoe UI\", \"Open Sans\", \"Helvetica Neue\", Helvetica, Arial, sans-serif;\\n        \\n    }\\n    div {\\n        width: 600px;\\n        margin: 5em auto;\\n        padding: 2em;\\n        background-color: #fdfdff;\\n        border-radius: 0.5em;\\n        box-shadow: 2px 3px 7px 2px rgba(0,0,0,0.02);\\n    }\\n    a:link, a:visited {\\n        color: #38488f;\\n        text-decoration: none;\\n    }\\n    @media (max-width: 700px) {\\n        div {\\n            margin: 0 auto;\\n            width: auto;\\n        }\\n    }\\n    </style>    \\n</head>\\n\\n<body>\\n<div>\\n    <h1>Example Domain</h1>\\n    <p>This domain is for use in illustrative examples in documents. You may use this\\n    domain in literature without prior coordination or asking for permission.</p>\\n    <p><a href=\"https://www.iana.org/domains/example\">More information...</a></p>\\n</div>\\n</body>\\n</html>\\n'"
      ]
     },
     "execution_count": 6,
     "metadata": {},
     "output_type": "execute_result"
    }
   ],
   "source": [
    "res.text"
   ]
  },
  {
   "cell_type": "code",
   "execution_count": 7,
   "id": "f7a6ac7a-10a4-4333-a651-91fddc593ce1",
   "metadata": {},
   "outputs": [],
   "source": [
    "soup = bs4.BeautifulSoup(res.text,\"lxml\")"
   ]
  },
  {
   "cell_type": "code",
   "execution_count": 8,
   "id": "5e30f1bf-8f20-4743-8cb9-4097f8a04c62",
   "metadata": {},
   "outputs": [
    {
     "data": {
      "text/plain": [
       "<!DOCTYPE html>\n",
       "<html>\n",
       "<head>\n",
       "<title>Example Domain</title>\n",
       "<meta charset=\"utf-8\"/>\n",
       "<meta content=\"text/html; charset=utf-8\" http-equiv=\"Content-type\"/>\n",
       "<meta content=\"width=device-width, initial-scale=1\" name=\"viewport\"/>\n",
       "<style type=\"text/css\">\n",
       "    body {\n",
       "        background-color: #f0f0f2;\n",
       "        margin: 0;\n",
       "        padding: 0;\n",
       "        font-family: -apple-system, system-ui, BlinkMacSystemFont, \"Segoe UI\", \"Open Sans\", \"Helvetica Neue\", Helvetica, Arial, sans-serif;\n",
       "        \n",
       "    }\n",
       "    div {\n",
       "        width: 600px;\n",
       "        margin: 5em auto;\n",
       "        padding: 2em;\n",
       "        background-color: #fdfdff;\n",
       "        border-radius: 0.5em;\n",
       "        box-shadow: 2px 3px 7px 2px rgba(0,0,0,0.02);\n",
       "    }\n",
       "    a:link, a:visited {\n",
       "        color: #38488f;\n",
       "        text-decoration: none;\n",
       "    }\n",
       "    @media (max-width: 700px) {\n",
       "        div {\n",
       "            margin: 0 auto;\n",
       "            width: auto;\n",
       "        }\n",
       "    }\n",
       "    </style>\n",
       "</head>\n",
       "<body>\n",
       "<div>\n",
       "<h1>Example Domain</h1>\n",
       "<p>This domain is for use in illustrative examples in documents. You may use this\n",
       "    domain in literature without prior coordination or asking for permission.</p>\n",
       "<p><a href=\"https://www.iana.org/domains/example\">More information...</a></p>\n",
       "</div>\n",
       "</body>\n",
       "</html>"
      ]
     },
     "execution_count": 8,
     "metadata": {},
     "output_type": "execute_result"
    }
   ],
   "source": [
    "soup"
   ]
  },
  {
   "cell_type": "code",
   "execution_count": 16,
   "id": "c86a033f-fbca-424e-b234-e80f39e342d3",
   "metadata": {},
   "outputs": [],
   "source": [
    "title_tag = soup.select('title')"
   ]
  },
  {
   "cell_type": "code",
   "execution_count": 17,
   "id": "1866acda-5ae1-488b-b4dd-4d69282ad72e",
   "metadata": {},
   "outputs": [
    {
     "data": {
      "text/plain": [
       "<title>Example Domain</title>"
      ]
     },
     "execution_count": 17,
     "metadata": {},
     "output_type": "execute_result"
    }
   ],
   "source": [
    "title_tag[0]"
   ]
  },
  {
   "cell_type": "code",
   "execution_count": 18,
   "id": "0ce69f0f-a38d-4bb1-a433-6567d5aeeee6",
   "metadata": {},
   "outputs": [
    {
     "data": {
      "text/plain": [
       "bs4.element.Tag"
      ]
     },
     "execution_count": 18,
     "metadata": {},
     "output_type": "execute_result"
    }
   ],
   "source": [
    "type(title_tag[0])"
   ]
  },
  {
   "cell_type": "code",
   "execution_count": 19,
   "id": "6638a559-e729-4bd1-95ae-abd9dcd3f4d1",
   "metadata": {},
   "outputs": [
    {
     "data": {
      "text/plain": [
       "'Example Domain'"
      ]
     },
     "execution_count": 19,
     "metadata": {},
     "output_type": "execute_result"
    }
   ],
   "source": [
    "title_tag[0].getText()"
   ]
  },
  {
   "cell_type": "code",
   "execution_count": 20,
   "id": "1be6871c-da45-4627-98c6-475d7f4c8149",
   "metadata": {},
   "outputs": [],
   "source": [
    "# grabbing elements of a class"
   ]
  },
  {
   "cell_type": "code",
   "execution_count": 21,
   "id": "1851a538-92d4-471b-9beb-7022dd872457",
   "metadata": {},
   "outputs": [],
   "source": [
    "res = requests.get('https://en.wikipedia.org/wiki/Grace_Hopper')"
   ]
  },
  {
   "cell_type": "code",
   "execution_count": 24,
   "id": "8b617015-1952-4d52-9256-6f646f436ec6",
   "metadata": {},
   "outputs": [],
   "source": [
    "# creates a soup from request\n",
    "soup = bs4.BeautifulSoup(res.text,\"lxml\")"
   ]
  },
  {
   "cell_type": "code",
   "execution_count": 26,
   "id": "bbf9b3fb-e234-4e1f-80bd-f630f89f86b6",
   "metadata": {},
   "outputs": [
    {
     "data": {
      "text/plain": [
       "[<ul class=\"vector-toc-contents\" id=\"mw-panel-toc-list\">\n",
       " <li class=\"vector-toc-list-item vector-toc-level-1\" id=\"toc-mw-content-text\">\n",
       " <a class=\"vector-toc-link\" href=\"#\">\n",
       " <div class=\"vector-toc-text\">(Top)</div>\n",
       " </a>\n",
       " </li>\n",
       " <li class=\"vector-toc-list-item vector-toc-level-1 vector-toc-list-item-expanded\" id=\"toc-Early_life_and_education\">\n",
       " <a class=\"vector-toc-link\" href=\"#Early_life_and_education\">\n",
       " <div class=\"vector-toc-text\">\n",
       " <span class=\"vector-toc-numb\">1</span>\n",
       " <span>Early life and education</span>\n",
       " </div>\n",
       " </a>\n",
       " <ul class=\"vector-toc-list\" id=\"toc-Early_life_and_education-sublist\">\n",
       " </ul>\n",
       " </li>\n",
       " <li class=\"vector-toc-list-item vector-toc-level-1 vector-toc-list-item-expanded\" id=\"toc-Career\">\n",
       " <a class=\"vector-toc-link\" href=\"#Career\">\n",
       " <div class=\"vector-toc-text\">\n",
       " <span class=\"vector-toc-numb\">2</span>\n",
       " <span>Career</span>\n",
       " </div>\n",
       " </a>\n",
       " <button aria-controls=\"toc-Career-sublist\" class=\"cdx-button cdx-button--weight-quiet cdx-button--icon-only vector-toc-toggle\">\n",
       " <span class=\"vector-icon mw-ui-icon-wikimedia-expand\"></span>\n",
       " <span>Toggle Career subsection</span>\n",
       " </button>\n",
       " <ul class=\"vector-toc-list\" id=\"toc-Career-sublist\">\n",
       " <li class=\"vector-toc-list-item vector-toc-level-2\" id=\"toc-World_War_II\">\n",
       " <a class=\"vector-toc-link\" href=\"#World_War_II\">\n",
       " <div class=\"vector-toc-text\">\n",
       " <span class=\"vector-toc-numb\">2.1</span>\n",
       " <span>World War II</span>\n",
       " </div>\n",
       " </a>\n",
       " <ul class=\"vector-toc-list\" id=\"toc-World_War_II-sublist\">\n",
       " </ul>\n",
       " </li>\n",
       " <li class=\"vector-toc-list-item vector-toc-level-2\" id=\"toc-UNIVAC\">\n",
       " <a class=\"vector-toc-link\" href=\"#UNIVAC\">\n",
       " <div class=\"vector-toc-text\">\n",
       " <span class=\"vector-toc-numb\">2.2</span>\n",
       " <span>UNIVAC</span>\n",
       " </div>\n",
       " </a>\n",
       " <ul class=\"vector-toc-list\" id=\"toc-UNIVAC-sublist\">\n",
       " </ul>\n",
       " </li>\n",
       " <li class=\"vector-toc-list-item vector-toc-level-2\" id=\"toc-COBOL\">\n",
       " <a class=\"vector-toc-link\" href=\"#COBOL\">\n",
       " <div class=\"vector-toc-text\">\n",
       " <span class=\"vector-toc-numb\">2.3</span>\n",
       " <span>COBOL</span>\n",
       " </div>\n",
       " </a>\n",
       " <ul class=\"vector-toc-list\" id=\"toc-COBOL-sublist\">\n",
       " </ul>\n",
       " </li>\n",
       " <li class=\"vector-toc-list-item vector-toc-level-2\" id=\"toc-Standards\">\n",
       " <a class=\"vector-toc-link\" href=\"#Standards\">\n",
       " <div class=\"vector-toc-text\">\n",
       " <span class=\"vector-toc-numb\">2.4</span>\n",
       " <span>Standards</span>\n",
       " </div>\n",
       " </a>\n",
       " <ul class=\"vector-toc-list\" id=\"toc-Standards-sublist\">\n",
       " </ul>\n",
       " </li>\n",
       " </ul>\n",
       " </li>\n",
       " <li class=\"vector-toc-list-item vector-toc-level-1 vector-toc-list-item-expanded\" id=\"toc-Retirement\">\n",
       " <a class=\"vector-toc-link\" href=\"#Retirement\">\n",
       " <div class=\"vector-toc-text\">\n",
       " <span class=\"vector-toc-numb\">3</span>\n",
       " <span>Retirement</span>\n",
       " </div>\n",
       " </a>\n",
       " <ul class=\"vector-toc-list\" id=\"toc-Retirement-sublist\">\n",
       " </ul>\n",
       " </li>\n",
       " <li class=\"vector-toc-list-item vector-toc-level-1 vector-toc-list-item-expanded\" id=\"toc-Post-retirement\">\n",
       " <a class=\"vector-toc-link\" href=\"#Post-retirement\">\n",
       " <div class=\"vector-toc-text\">\n",
       " <span class=\"vector-toc-numb\">4</span>\n",
       " <span>Post-retirement</span>\n",
       " </div>\n",
       " </a>\n",
       " <ul class=\"vector-toc-list\" id=\"toc-Post-retirement-sublist\">\n",
       " </ul>\n",
       " </li>\n",
       " <li class=\"vector-toc-list-item vector-toc-level-1 vector-toc-list-item-expanded\" id=\"toc-Anecdotes\">\n",
       " <a class=\"vector-toc-link\" href=\"#Anecdotes\">\n",
       " <div class=\"vector-toc-text\">\n",
       " <span class=\"vector-toc-numb\">5</span>\n",
       " <span>Anecdotes</span>\n",
       " </div>\n",
       " </a>\n",
       " <ul class=\"vector-toc-list\" id=\"toc-Anecdotes-sublist\">\n",
       " </ul>\n",
       " </li>\n",
       " <li class=\"vector-toc-list-item vector-toc-level-1 vector-toc-list-item-expanded\" id=\"toc-Death\">\n",
       " <a class=\"vector-toc-link\" href=\"#Death\">\n",
       " <div class=\"vector-toc-text\">\n",
       " <span class=\"vector-toc-numb\">6</span>\n",
       " <span>Death</span>\n",
       " </div>\n",
       " </a>\n",
       " <ul class=\"vector-toc-list\" id=\"toc-Death-sublist\">\n",
       " </ul>\n",
       " </li>\n",
       " <li class=\"vector-toc-list-item vector-toc-level-1 vector-toc-list-item-expanded\" id=\"toc-Dates_of_rank\">\n",
       " <a class=\"vector-toc-link\" href=\"#Dates_of_rank\">\n",
       " <div class=\"vector-toc-text\">\n",
       " <span class=\"vector-toc-numb\">7</span>\n",
       " <span>Dates of rank</span>\n",
       " </div>\n",
       " </a>\n",
       " <ul class=\"vector-toc-list\" id=\"toc-Dates_of_rank-sublist\">\n",
       " </ul>\n",
       " </li>\n",
       " <li class=\"vector-toc-list-item vector-toc-level-1 vector-toc-list-item-expanded\" id=\"toc-Awards_and_honors\">\n",
       " <a class=\"vector-toc-link\" href=\"#Awards_and_honors\">\n",
       " <div class=\"vector-toc-text\">\n",
       " <span class=\"vector-toc-numb\">8</span>\n",
       " <span>Awards and honors</span>\n",
       " </div>\n",
       " </a>\n",
       " <button aria-controls=\"toc-Awards_and_honors-sublist\" class=\"cdx-button cdx-button--weight-quiet cdx-button--icon-only vector-toc-toggle\">\n",
       " <span class=\"vector-icon mw-ui-icon-wikimedia-expand\"></span>\n",
       " <span>Toggle Awards and honors subsection</span>\n",
       " </button>\n",
       " <ul class=\"vector-toc-list\" id=\"toc-Awards_and_honors-sublist\">\n",
       " <li class=\"vector-toc-list-item vector-toc-level-2\" id=\"toc-Military_awards\">\n",
       " <a class=\"vector-toc-link\" href=\"#Military_awards\">\n",
       " <div class=\"vector-toc-text\">\n",
       " <span class=\"vector-toc-numb\">8.1</span>\n",
       " <span>Military awards</span>\n",
       " </div>\n",
       " </a>\n",
       " <ul class=\"vector-toc-list\" id=\"toc-Military_awards-sublist\">\n",
       " </ul>\n",
       " </li>\n",
       " <li class=\"vector-toc-list-item vector-toc-level-2\" id=\"toc-Other_awards\">\n",
       " <a class=\"vector-toc-link\" href=\"#Other_awards\">\n",
       " <div class=\"vector-toc-text\">\n",
       " <span class=\"vector-toc-numb\">8.2</span>\n",
       " <span>Other awards</span>\n",
       " </div>\n",
       " </a>\n",
       " <ul class=\"vector-toc-list\" id=\"toc-Other_awards-sublist\">\n",
       " </ul>\n",
       " </li>\n",
       " </ul>\n",
       " </li>\n",
       " <li class=\"vector-toc-list-item vector-toc-level-1 vector-toc-list-item-expanded\" id=\"toc-Legacy\">\n",
       " <a class=\"vector-toc-link\" href=\"#Legacy\">\n",
       " <div class=\"vector-toc-text\">\n",
       " <span class=\"vector-toc-numb\">9</span>\n",
       " <span>Legacy</span>\n",
       " </div>\n",
       " </a>\n",
       " <button aria-controls=\"toc-Legacy-sublist\" class=\"cdx-button cdx-button--weight-quiet cdx-button--icon-only vector-toc-toggle\">\n",
       " <span class=\"vector-icon mw-ui-icon-wikimedia-expand\"></span>\n",
       " <span>Toggle Legacy subsection</span>\n",
       " </button>\n",
       " <ul class=\"vector-toc-list\" id=\"toc-Legacy-sublist\">\n",
       " <li class=\"vector-toc-list-item vector-toc-level-2\" id=\"toc-Places\">\n",
       " <a class=\"vector-toc-link\" href=\"#Places\">\n",
       " <div class=\"vector-toc-text\">\n",
       " <span class=\"vector-toc-numb\">9.1</span>\n",
       " <span>Places</span>\n",
       " </div>\n",
       " </a>\n",
       " <ul class=\"vector-toc-list\" id=\"toc-Places-sublist\">\n",
       " </ul>\n",
       " </li>\n",
       " <li class=\"vector-toc-list-item vector-toc-level-2\" id=\"toc-Programs\">\n",
       " <a class=\"vector-toc-link\" href=\"#Programs\">\n",
       " <div class=\"vector-toc-text\">\n",
       " <span class=\"vector-toc-numb\">9.2</span>\n",
       " <span>Programs</span>\n",
       " </div>\n",
       " </a>\n",
       " <ul class=\"vector-toc-list\" id=\"toc-Programs-sublist\">\n",
       " </ul>\n",
       " </li>\n",
       " <li class=\"vector-toc-list-item vector-toc-level-2\" id=\"toc-In_popular_culture\">\n",
       " <a class=\"vector-toc-link\" href=\"#In_popular_culture\">\n",
       " <div class=\"vector-toc-text\">\n",
       " <span class=\"vector-toc-numb\">9.3</span>\n",
       " <span>In popular culture</span>\n",
       " </div>\n",
       " </a>\n",
       " <ul class=\"vector-toc-list\" id=\"toc-In_popular_culture-sublist\">\n",
       " <li class=\"vector-toc-list-item vector-toc-level-3\" id=\"toc-Grace_Hopper_Celebration_of_Women_in_Computing\">\n",
       " <a class=\"vector-toc-link\" href=\"#Grace_Hopper_Celebration_of_Women_in_Computing\">\n",
       " <div class=\"vector-toc-text\">\n",
       " <span class=\"vector-toc-numb\">9.3.1</span>\n",
       " <span>Grace Hopper Celebration of Women in Computing</span>\n",
       " </div>\n",
       " </a>\n",
       " <ul class=\"vector-toc-list\" id=\"toc-Grace_Hopper_Celebration_of_Women_in_Computing-sublist\">\n",
       " </ul>\n",
       " </li>\n",
       " </ul>\n",
       " </li>\n",
       " </ul>\n",
       " </li>\n",
       " <li class=\"vector-toc-list-item vector-toc-level-1 vector-toc-list-item-expanded\" id=\"toc-See_also\">\n",
       " <a class=\"vector-toc-link\" href=\"#See_also\">\n",
       " <div class=\"vector-toc-text\">\n",
       " <span class=\"vector-toc-numb\">10</span>\n",
       " <span>See also</span>\n",
       " </div>\n",
       " </a>\n",
       " <ul class=\"vector-toc-list\" id=\"toc-See_also-sublist\">\n",
       " </ul>\n",
       " </li>\n",
       " <li class=\"vector-toc-list-item vector-toc-level-1 vector-toc-list-item-expanded\" id=\"toc-Notes\">\n",
       " <a class=\"vector-toc-link\" href=\"#Notes\">\n",
       " <div class=\"vector-toc-text\">\n",
       " <span class=\"vector-toc-numb\">11</span>\n",
       " <span>Notes</span>\n",
       " </div>\n",
       " </a>\n",
       " <ul class=\"vector-toc-list\" id=\"toc-Notes-sublist\">\n",
       " </ul>\n",
       " </li>\n",
       " <li class=\"vector-toc-list-item vector-toc-level-1 vector-toc-list-item-expanded\" id=\"toc-References\">\n",
       " <a class=\"vector-toc-link\" href=\"#References\">\n",
       " <div class=\"vector-toc-text\">\n",
       " <span class=\"vector-toc-numb\">12</span>\n",
       " <span>References</span>\n",
       " </div>\n",
       " </a>\n",
       " <ul class=\"vector-toc-list\" id=\"toc-References-sublist\">\n",
       " </ul>\n",
       " </li>\n",
       " <li class=\"vector-toc-list-item vector-toc-level-1 vector-toc-list-item-expanded\" id=\"toc-Obituary_notices\">\n",
       " <a class=\"vector-toc-link\" href=\"#Obituary_notices\">\n",
       " <div class=\"vector-toc-text\">\n",
       " <span class=\"vector-toc-numb\">13</span>\n",
       " <span>Obituary notices</span>\n",
       " </div>\n",
       " </a>\n",
       " <ul class=\"vector-toc-list\" id=\"toc-Obituary_notices-sublist\">\n",
       " </ul>\n",
       " </li>\n",
       " <li class=\"vector-toc-list-item vector-toc-level-1 vector-toc-list-item-expanded\" id=\"toc-Further_reading\">\n",
       " <a class=\"vector-toc-link\" href=\"#Further_reading\">\n",
       " <div class=\"vector-toc-text\">\n",
       " <span class=\"vector-toc-numb\">14</span>\n",
       " <span>Further reading</span>\n",
       " </div>\n",
       " </a>\n",
       " <ul class=\"vector-toc-list\" id=\"toc-Further_reading-sublist\">\n",
       " </ul>\n",
       " </li>\n",
       " <li class=\"vector-toc-list-item vector-toc-level-1 vector-toc-list-item-expanded\" id=\"toc-External_links\">\n",
       " <a class=\"vector-toc-link\" href=\"#External_links\">\n",
       " <div class=\"vector-toc-text\">\n",
       " <span class=\"vector-toc-numb\">15</span>\n",
       " <span>External links</span>\n",
       " </div>\n",
       " </a>\n",
       " <ul class=\"vector-toc-list\" id=\"toc-External_links-sublist\">\n",
       " </ul>\n",
       " </li>\n",
       " </ul>]"
      ]
     },
     "execution_count": 26,
     "metadata": {},
     "output_type": "execute_result"
    }
   ],
   "source": [
    "soup.select(\".vector-toc-contents\")"
   ]
  },
  {
   "cell_type": "code",
   "execution_count": 30,
   "id": "f0b728ab-47be-4feb-8eb1-dfd71ec081b4",
   "metadata": {},
   "outputs": [
    {
     "ename": "NameError",
     "evalue": "name 'itemid' is not defined",
     "output_type": "error",
     "traceback": [
      "\u001b[0;31m---------------------------------------------------------------------------\u001b[0m",
      "\u001b[0;31mNameError\u001b[0m                                 Traceback (most recent call last)",
      "Cell \u001b[0;32mIn[30], line 2\u001b[0m\n\u001b[1;32m      1\u001b[0m \u001b[38;5;28;01mfor\u001b[39;00m item \u001b[38;5;129;01min\u001b[39;00m soup\u001b[38;5;241m.\u001b[39mselect(\u001b[38;5;124m\"\u001b[39m\u001b[38;5;124m.vector-toc-contents\u001b[39m\u001b[38;5;124m\"\u001b[39m):\n\u001b[0;32m----> 2\u001b[0m     \u001b[38;5;28mprint\u001b[39m(itemid)\n",
      "\u001b[0;31mNameError\u001b[0m: name 'itemid' is not defined"
     ]
    }
   ],
   "source": [
    "for item in soup.select(\".vector-toc-contents\"):\n",
    "    print(itemid)"
   ]
  },
  {
   "cell_type": "code",
   "execution_count": null,
   "id": "ac798068-e3ef-4553-80b9-ff64eb8d528b",
   "metadata": {},
   "outputs": [],
   "source": []
  }
 ],
 "metadata": {
  "kernelspec": {
   "display_name": "Python 3 (ipykernel)",
   "language": "python",
   "name": "python3"
  },
  "language_info": {
   "codemirror_mode": {
    "name": "ipython",
    "version": 3
   },
   "file_extension": ".py",
   "mimetype": "text/x-python",
   "name": "python",
   "nbconvert_exporter": "python",
   "pygments_lexer": "ipython3",
   "version": "3.12.4"
  }
 },
 "nbformat": 4,
 "nbformat_minor": 5
}
