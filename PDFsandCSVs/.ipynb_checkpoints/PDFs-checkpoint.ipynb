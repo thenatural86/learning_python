{
 "cells": [
  {
   "cell_type": "code",
   "execution_count": null,
   "id": "40960392-5368-4dbc-ae01-6798976dd75c",
   "metadata": {},
   "outputs": [],
   "source": []
  },
  {
   "cell_type": "code",
   "execution_count": null,
   "id": "e10d01aa-8211-4e55-aaba-ce85a41cccc8",
   "metadata": {},
   "outputs": [],
   "source": [
    "# note the capitalization\n",
    "import PyPDF2"
   ]
  },
  {
   "cell_type": "code",
   "execution_count": null,
   "id": "be290cdf-bc88-43a8-8e9c-a6337b03478a",
   "metadata": {},
   "outputs": [],
   "source": [
    "# Notice we read it as a binary with 'rb'\n",
    "f = open('Working_Business_Proposal.pdf','rb')"
   ]
  },
  {
   "cell_type": "code",
   "execution_count": null,
   "id": "5c3b12c4-b0cf-4734-a050-9bbfde90a06d",
   "metadata": {},
   "outputs": [],
   "source": [
    "pdf_reader = PyPDF2.PdfReader(f)"
   ]
  },
  {
   "cell_type": "code",
   "execution_count": null,
   "id": "01df2b6b-791b-4067-bcfc-d1775d83a9ae",
   "metadata": {},
   "outputs": [],
   "source": [
    "len(pdf_reader.pages)"
   ]
  },
  {
   "cell_type": "code",
   "execution_count": null,
   "id": "764ae2b8-daf3-40b8-83e9-79058433f9cb",
   "metadata": {},
   "outputs": [],
   "source": [
    "page_number = 0\n",
    "page_one = pdf_reader.pages[0]"
   ]
  },
  {
   "cell_type": "code",
   "execution_count": null,
   "id": "7498846e-d891-463a-b50b-fa6c802c4441",
   "metadata": {},
   "outputs": [],
   "source": [
    "page_one_text = page_one.extract_text()"
   ]
  },
  {
   "cell_type": "code",
   "execution_count": null,
   "id": "28e92bf7-a2ea-40a0-aeeb-215f09e94813",
   "metadata": {},
   "outputs": [],
   "source": [
    "page_one_text"
   ]
  },
  {
   "cell_type": "code",
   "execution_count": null,
   "id": "9424d4aa-b32b-47d0-9a09-8a00f5ee2f53",
   "metadata": {},
   "outputs": [],
   "source": [
    "f.close()"
   ]
  },
  {
   "cell_type": "code",
   "execution_count": null,
   "id": "b5f2cb21-69bf-489d-bdb3-adfaeab745ec",
   "metadata": {},
   "outputs": [],
   "source": [
    "# We can not write to PDFs using Python because of the differences between the\n",
    "# single string type of Python, and the variety of fonts, placements, and other \n",
    "# parameters that a PDF could have.\n",
    "\n",
    "# What we can do is copy pages and append pages to the end."
   ]
  },
  {
   "cell_type": "code",
   "execution_count": null,
   "id": "e20c42a3-df15-46b6-ab21-fe966b2a154d",
   "metadata": {},
   "outputs": [],
   "source": [
    "f = open('Working_Business_Proposal.pdf','rb')\n",
    "pdf_reader = PyPDF2.PdfReader(f)"
   ]
  },
  {
   "cell_type": "code",
   "execution_count": null,
   "id": "946d56e3-ed66-4de7-a3ab-f339a10e7108",
   "metadata": {},
   "outputs": [],
   "source": [
    "page_number = 0\n",
    "page_one = pdf_reader.pages[0]"
   ]
  },
  {
   "cell_type": "code",
   "execution_count": null,
   "id": "2f690160-8cc6-4764-9f5c-87419e1fbccc",
   "metadata": {},
   "outputs": [],
   "source": [
    "pdf_writer = PyPDF2.PdfWriter()"
   ]
  },
  {
   "cell_type": "code",
   "execution_count": null,
   "id": "51f57bea-4645-4ce9-b923-6b7b6b7f7716",
   "metadata": {},
   "outputs": [],
   "source": [
    "pdf_writer.add_page(page_one);"
   ]
  },
  {
   "cell_type": "code",
   "execution_count": null,
   "id": "e7ef49ca-17d9-407c-8e96-0441ecce108c",
   "metadata": {},
   "outputs": [],
   "source": [
    "pdf_writer.write(pdf_output)"
   ]
  },
  {
   "cell_type": "code",
   "execution_count": null,
   "id": "6ea4790e-3be3-44d7-a889-6e36dce13658",
   "metadata": {},
   "outputs": [],
   "source": [
    "f.close()"
   ]
  },
  {
   "cell_type": "code",
   "execution_count": null,
   "id": "3714ad63-74c4-454a-9c45-2f3a4f06f4ad",
   "metadata": {},
   "outputs": [],
   "source": [
    "# Simple Example\n",
    "# Let's try to grab all the text from this PDF file:"
   ]
  },
  {
   "cell_type": "code",
   "execution_count": null,
   "id": "80a11a7b-9382-4cb9-81dc-ae764a89b668",
   "metadata": {},
   "outputs": [],
   "source": [
    "f = open('Working_Business_Proposal.pdf','rb')\n",
    "\n",
    "# List of every page's text.\n",
    "# The index will correspond to the page number.\n",
    "pdf_text = []\n",
    "\n",
    "pdf_reader = PyPDF2.PdfReader(f)\n",
    "\n",
    "for p in range(len(pdf_reader.pages)):\n",
    "    \n",
    "    page = pdf_reader.pages[0]\n",
    "    \n",
    "    pdf_text.append(page.extract_text())\n",
    "    "
   ]
  },
  {
   "cell_type": "code",
   "execution_count": null,
   "id": "09d76ffc-0219-4470-9c2d-bee56b4efbe9",
   "metadata": {},
   "outputs": [],
   "source": [
    "pdf_text"
   ]
  },
  {
   "cell_type": "code",
   "execution_count": null,
   "id": "58dbedc9-8fcb-4cf2-94a5-6574ffba4977",
   "metadata": {},
   "outputs": [],
   "source": [
    "print(pdf_text[3])"
   ]
  },
  {
   "cell_type": "code",
   "execution_count": null,
   "id": "22027c40-edce-4cf3-9aec-f3c6557b70d4",
   "metadata": {},
   "outputs": [],
   "source": []
  },
  {
   "cell_type": "code",
   "execution_count": null,
   "id": "0e363ced-d7bb-42dc-b549-b04146ef0e22",
   "metadata": {},
   "outputs": [],
   "source": []
  },
  {
   "cell_type": "code",
   "execution_count": null,
   "id": "8e9351a5-ab57-4184-935d-9ecefd5f5c68",
   "metadata": {},
   "outputs": [],
   "source": []
  }
 ],
 "metadata": {
  "kernelspec": {
   "display_name": "Python 3 (ipykernel)",
   "language": "python",
   "name": "python3"
  },
  "language_info": {
   "codemirror_mode": {
    "name": "ipython",
    "version": 3
   },
   "file_extension": ".py",
   "mimetype": "text/x-python",
   "name": "python",
   "nbconvert_exporter": "python",
   "pygments_lexer": "ipython3",
   "version": "3.12.4"
  }
 },
 "nbformat": 4,
 "nbformat_minor": 5
}
