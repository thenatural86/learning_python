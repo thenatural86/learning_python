{
 "cells": [
  {
   "cell_type": "code",
   "execution_count": 1,
   "id": "088b3527-f744-4c55-9ddf-c955d9ca62eb",
   "metadata": {},
   "outputs": [],
   "source": [
    "import csv"
   ]
  },
  {
   "cell_type": "code",
   "execution_count": null,
   "id": "d2fb25bb-ca4e-4877-8d94-badc2668363b",
   "metadata": {},
   "outputs": [],
   "source": [
    "# Task One: Grab the Google Drive Link from .csv File\n",
    "\n",
    "data = open('Exercise_Files/find_the_link.csv',encoding=\"utf-8\")\n",
    "csv_data = csv.reader(data)\n",
    "data_lines = list(csv_data)"
   ]
  },
  {
   "cell_type": "code",
   "execution_count": null,
   "id": "a833341d-b1fd-4a44-b505-ef80aa95306e",
   "metadata": {},
   "outputs": [],
   "source": [
    "link_list = []\n",
    "for row_num,data in enumerate(data_lines):\n",
    "    link_list.append(data[row_num])"
   ]
  },
  {
   "cell_type": "code",
   "execution_count": null,
   "id": "97b47838-a95b-416f-b1b9-2306f48eef8b",
   "metadata": {},
   "outputs": [],
   "source": [
    "''.join(link_list)"
   ]
  },
  {
   "cell_type": "code",
   "execution_count": null,
   "id": "1c9b3abd-a81c-4a05-9433-0bcfa79e2bee",
   "metadata": {},
   "outputs": [],
   "source": [
    "# Task Two: Download the PDF from the Google Drive link and find the phone number that is in the \n",
    "# document."
   ]
  },
  {
   "cell_type": "code",
   "execution_count": null,
   "id": "76ee3c20-a5bc-4a0b-a1ed-aa88f19b562a",
   "metadata": {},
   "outputs": [],
   "source": [
    "import PyPDF2"
   ]
  },
  {
   "cell_type": "code",
   "execution_count": null,
   "id": "df155f37-2d76-4452-8638-2280ab3854b7",
   "metadata": {},
   "outputs": [],
   "source": [
    "f = open('Exercise_Files/Find_the_Phone_Number.pdf','rb')"
   ]
  },
  {
   "cell_type": "code",
   "execution_count": null,
   "id": "f4881a6e-1150-44df-9d93-2264dc8b29bd",
   "metadata": {},
   "outputs": [],
   "source": [
    "pdf = PyPDF2.PdfReader(f)"
   ]
  },
  {
   "cell_type": "code",
   "execution_count": null,
   "id": "ae018a39-c32e-4964-93f8-934023f0abd6",
   "metadata": {},
   "outputs": [],
   "source": [
    "len(pdf.pages)"
   ]
  },
  {
   "cell_type": "code",
   "execution_count": null,
   "id": "e86e8b0c-4c85-4cfb-b4cf-f7bed9e55c83",
   "metadata": {},
   "outputs": [],
   "source": [
    "# Phone Number Matching\n",
    "# Lot's of ways to do this, but you had to figure out the phone number was \n",
    "# in format ###.###.####"
   ]
  },
  {
   "cell_type": "code",
   "execution_count": null,
   "id": "ddccbdff-7af4-48b8-8a61-395d7773c591",
   "metadata": {},
   "outputs": [],
   "source": [
    "import re"
   ]
  },
  {
   "cell_type": "code",
   "execution_count": null,
   "id": "881e70e9-b553-441e-9e3d-e1550b14b9ed",
   "metadata": {},
   "outputs": [],
   "source": [
    "pattern = r'\\d{3}'"
   ]
  },
  {
   "cell_type": "code",
   "execution_count": null,
   "id": "1950f4c0-b3a6-4916-ae92-2b93f1470c21",
   "metadata": {},
   "outputs": [],
   "source": [
    "all_text = ''\n",
    "\n",
    "for n in range(len(pdf.pages)):\n",
    "    \n",
    "    page = pdf.pages[n]\n",
    "    page_text = page.extract_text()\n",
    "    \n",
    "    all_text = all_text+' '+page_text\n"
   ]
  },
  {
   "cell_type": "code",
   "execution_count": null,
   "id": "88711859-13ce-4a03-8680-7818e514ffd7",
   "metadata": {},
   "outputs": [],
   "source": [
    "for match in re.finditer(pattern,all_text):\n",
    "    print(match)"
   ]
  },
  {
   "cell_type": "code",
   "execution_count": null,
   "id": "c385e69e-5d86-47cf-a922-7c900e3174fe",
   "metadata": {},
   "outputs": [],
   "source": [
    "# Once you know the correct pattern:"
   ]
  },
  {
   "cell_type": "code",
   "execution_count": null,
   "id": "8629fe71-26e9-4c06-b214-f1669e1aad25",
   "metadata": {},
   "outputs": [],
   "source": [
    "pattern = r'\\d{3}.\\d{3}.\\d{4}'"
   ]
  },
  {
   "cell_type": "code",
   "execution_count": null,
   "id": "8243b08b-8a3e-474c-bf36-711b7ac23c30",
   "metadata": {},
   "outputs": [],
   "source": [
    "for n in range(len(pdf.pages)):\n",
    "    \n",
    "    page  = pdf.pages[n]\n",
    "    page_text = page.extract_text()\n",
    "    match = re.search(pattern,page_text)\n",
    "    \n",
    "    if match:\n",
    "        print(match.group())"
   ]
  },
  {
   "cell_type": "code",
   "execution_count": null,
   "id": "239569cb-1032-4cd0-b3f6-a12cd1842806",
   "metadata": {},
   "outputs": [],
   "source": []
  },
  {
   "cell_type": "code",
   "execution_count": null,
   "id": "7e733a72-43d8-4531-a813-504c96db4af9",
   "metadata": {},
   "outputs": [],
   "source": []
  }
 ],
 "metadata": {
  "kernelspec": {
   "display_name": "Python 3 (ipykernel)",
   "language": "python",
   "name": "python3"
  },
  "language_info": {
   "codemirror_mode": {
    "name": "ipython",
    "version": 3
   },
   "file_extension": ".py",
   "mimetype": "text/x-python",
   "name": "python",
   "nbconvert_exporter": "python",
   "pygments_lexer": "ipython3",
   "version": "3.12.4"
  }
 },
 "nbformat": 4,
 "nbformat_minor": 5
}
