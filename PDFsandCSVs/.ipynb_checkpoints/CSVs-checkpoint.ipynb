{
 "cells": [
  {
   "cell_type": "code",
   "execution_count": null,
   "id": "da56d953-a2de-4ca4-8dba-a1ec27f629e4",
   "metadata": {},
   "outputs": [],
   "source": [
    "import csv"
   ]
  },
  {
   "cell_type": "code",
   "execution_count": null,
   "id": "33e15984-2fa1-45a7-b52a-ed5918cab560",
   "metadata": {},
   "outputs": [],
   "source": [
    "data = open('example.csv')"
   ]
  },
  {
   "cell_type": "code",
   "execution_count": null,
   "id": "64dcf3e4-57ff-47ee-add7-3a09b7abe8c3",
   "metadata": {},
   "outputs": [],
   "source": [
    "data"
   ]
  },
  {
   "cell_type": "code",
   "execution_count": null,
   "id": "51ce12b0-03a6-4a3a-b215-75129206f792",
   "metadata": {},
   "outputs": [],
   "source": [
    "csv_data = csv.reader(data)"
   ]
  },
  {
   "cell_type": "code",
   "execution_count": null,
   "id": "130e2e0a-2f63-43ae-857c-99895ff5d52d",
   "metadata": {},
   "outputs": [],
   "source": [
    "data_lines = list(csv_data)"
   ]
  },
  {
   "cell_type": "code",
   "execution_count": null,
   "id": "fedcb126-70af-4601-98d8-6fa6c267f874",
   "metadata": {},
   "outputs": [],
   "source": [
    "data = open('example.csv',encoding=\"utf-8\")\n",
    "csv_data = csv.reader(data)\n",
    "data_lines = list(csv_data)"
   ]
  },
  {
   "cell_type": "code",
   "execution_count": null,
   "id": "791305c1-892d-4289-8eda-31b3986c895e",
   "metadata": {},
   "outputs": [],
   "source": [
    "# Looks like it worked!\n",
    "data_lines[:3]"
   ]
  },
  {
   "cell_type": "code",
   "execution_count": null,
   "id": "5f4b42d6-68df-4c3b-a1ee-a6b30c57a419",
   "metadata": {},
   "outputs": [],
   "source": [
    "for line in data_lines[:5]:\n",
    "    print(line)"
   ]
  },
  {
   "cell_type": "code",
   "execution_count": null,
   "id": "c1e623ee-3998-47f1-b027-fca1b51b86cd",
   "metadata": {},
   "outputs": [],
   "source": [
    "len(data_lines)"
   ]
  },
  {
   "cell_type": "code",
   "execution_count": null,
   "id": "abb09ff6-2b24-4e7f-baa3-bed3dfcb447f",
   "metadata": {},
   "outputs": [],
   "source": [
    "all_emails = []\n",
    "for line in data_lines[1:15]:\n",
    "    all_emails.append(line[3])"
   ]
  },
  {
   "cell_type": "code",
   "execution_count": null,
   "id": "3adf06e1-6642-45f8-8730-4d12e3121d4d",
   "metadata": {},
   "outputs": [],
   "source": [
    "print(all_emails)"
   ]
  },
  {
   "cell_type": "code",
   "execution_count": null,
   "id": "9b2c1b2f-f230-4b30-a483-dba30bd20997",
   "metadata": {},
   "outputs": [],
   "source": [
    "full_names = []\n",
    "\n",
    "for line in data_lines[1:15]:\n",
    "    full_names.append(line[1]+' '+line[2])\n"
   ]
  },
  {
   "cell_type": "code",
   "execution_count": null,
   "id": "57dd6fab-c24c-4efd-94ba-953091285d2f",
   "metadata": {},
   "outputs": [],
   "source": [
    "full_names"
   ]
  },
  {
   "cell_type": "code",
   "execution_count": null,
   "id": "d195649f-4d8b-40b2-bc80-1a712415f599",
   "metadata": {},
   "outputs": [],
   "source": [
    "# We can also write csv files, either new ones or add on to existing ones."
   ]
  },
  {
   "cell_type": "code",
   "execution_count": null,
   "id": "3a43f9ef-15a7-4c0a-a88c-87f8c7e47680",
   "metadata": {},
   "outputs": [],
   "source": [
    "# newline controls how universal newlines works (it only applies to text\n",
    "# mode). It can be None, '', '\\n', '\\r', and '\\r\\n'. \n",
    "file_to_output = open('to_save_file.csv','w',newline='')"
   ]
  },
  {
   "cell_type": "code",
   "execution_count": null,
   "id": "500ffe49-5020-47f6-a846-d9ab55e917d2",
   "metadata": {},
   "outputs": [],
   "source": [
    "csv_writer = csv.writer(file_to_output,delimiter=',')"
   ]
  },
  {
   "cell_type": "code",
   "execution_count": null,
   "id": "cbf6334d-9bb9-4574-961c-98002785929f",
   "metadata": {},
   "outputs": [],
   "source": [
    "csv_writer.writerow(['a','b','c'])"
   ]
  },
  {
   "cell_type": "code",
   "execution_count": null,
   "id": "a818b70c-a4e5-4c93-92c3-b4ceee4bbdda",
   "metadata": {},
   "outputs": [],
   "source": [
    "csv_writer.writerows([['1','2','3'],['4','5','6']])"
   ]
  },
  {
   "cell_type": "code",
   "execution_count": null,
   "id": "b8890a69-a513-44ee-8c2b-9d86c8f19f86",
   "metadata": {},
   "outputs": [],
   "source": [
    "file_to_output.close()"
   ]
  },
  {
   "cell_type": "code",
   "execution_count": 1,
   "id": "c88b7230-7bf1-4872-bd38-682c00bfd657",
   "metadata": {},
   "outputs": [],
   "source": [
    "# Existing File"
   ]
  },
  {
   "cell_type": "code",
   "execution_count": null,
   "id": "46f331cd-ed52-4f52-99a2-d74270c919fc",
   "metadata": {},
   "outputs": [],
   "source": [
    "f = open('to_save_file.csv','a',newline='')"
   ]
  },
  {
   "cell_type": "code",
   "execution_count": null,
   "id": "be257b94-c714-49a4-beb4-91bf01fadf88",
   "metadata": {},
   "outputs": [],
   "source": [
    "csv_writer = csv.writer(f)"
   ]
  },
  {
   "cell_type": "code",
   "execution_count": null,
   "id": "4a04f480-32dd-4fcd-85f2-a5efe17754f1",
   "metadata": {},
   "outputs": [],
   "source": [
    "csv_writer.writerow(['new','new','new'])"
   ]
  },
  {
   "cell_type": "code",
   "execution_count": null,
   "id": "ac96b558-b5a0-4432-8a67-200c8e5723e5",
   "metadata": {},
   "outputs": [],
   "source": [
    "f.close()"
   ]
  },
  {
   "cell_type": "code",
   "execution_count": null,
   "id": "cf42c2be-7725-45e7-8872-17648fa205dd",
   "metadata": {},
   "outputs": [],
   "source": []
  },
  {
   "cell_type": "code",
   "execution_count": null,
   "id": "e1a7574d-2c3b-4fbb-9a69-f37116ffce84",
   "metadata": {},
   "outputs": [],
   "source": []
  },
  {
   "cell_type": "code",
   "execution_count": null,
   "id": "585f4f86-b524-423a-bb53-e68170c20e76",
   "metadata": {},
   "outputs": [],
   "source": []
  },
  {
   "cell_type": "code",
   "execution_count": null,
   "id": "7e5b68e2-e699-4479-b9d4-bb4e47e6ad40",
   "metadata": {},
   "outputs": [],
   "source": []
  },
  {
   "cell_type": "code",
   "execution_count": null,
   "id": "0d84a141-c096-46de-bcfd-976c01130b05",
   "metadata": {},
   "outputs": [],
   "source": []
  },
  {
   "cell_type": "code",
   "execution_count": null,
   "id": "4f387076-73dd-464e-b25d-96440e2bd6ed",
   "metadata": {},
   "outputs": [],
   "source": []
  }
 ],
 "metadata": {
  "kernelspec": {
   "display_name": "Python 3 (ipykernel)",
   "language": "python",
   "name": "python3"
  },
  "language_info": {
   "codemirror_mode": {
    "name": "ipython",
    "version": 3
   },
   "file_extension": ".py",
   "mimetype": "text/x-python",
   "name": "python",
   "nbconvert_exporter": "python",
   "pygments_lexer": "ipython3",
   "version": "3.12.4"
  }
 },
 "nbformat": 4,
 "nbformat_minor": 5
}
