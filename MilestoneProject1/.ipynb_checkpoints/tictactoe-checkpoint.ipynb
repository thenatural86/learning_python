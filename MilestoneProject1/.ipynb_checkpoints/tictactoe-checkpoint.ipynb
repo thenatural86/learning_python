{
 "cells": [
  {
   "cell_type": "code",
   "execution_count": 36,
   "id": "f1a080a9-b1a4-422e-a397-17f187eab6b1",
   "metadata": {},
   "outputs": [],
   "source": [
    "from IPython.display import clear_output\n",
    "\n",
    "def display_board(board):\n",
    "    clear_output()\n",
    "    print(board[7] + ' | ' + board[8] + ' | ' + board[9])\n",
    "    print(board[4] + ' | ' + board[5] + ' | ' + board[6])\n",
    "    print(board[1] + ' | ' + board[2] + ' | ' + board[3])\n",
    "    \n"
   ]
  },
  {
   "cell_type": "code",
   "execution_count": 37,
   "id": "f7072efa-f57a-4ef6-b216-2d44d72ac8bd",
   "metadata": {},
   "outputs": [
    {
     "name": "stdout",
     "output_type": "stream",
     "text": [
      "X | O | X\n",
      "O | X | O\n",
      "X | O | X\n"
     ]
    }
   ],
   "source": [
    "test_board = ['#','X','O','X','O','X','O','X','O','X']\n",
    "display_board(test_board)"
   ]
  },
  {
   "cell_type": "code",
   "execution_count": 38,
   "id": "619512ef-3900-4867-8b82-918dcd51ecd3",
   "metadata": {},
   "outputs": [],
   "source": [
    "def player_input():\n",
    "\n",
    "    choice = ''\n",
    "\n",
    "    while choice != 'X' and choice != 'O':\n",
    "        choice = input(\"Player 1, choose X or O: \").upper()\n",
    "    \n",
    "    \n",
    "    \n",
    "    player1 = choice\n",
    "    \n",
    "    if player1 == 'X':\n",
    "       player2 = 'O'\n",
    "    else:\n",
    "       player2 = 'X'\n",
    "       \n",
    "    print(f'Player 1 is {choice} and Player 2 is {player2}')\n",
    "    return (player1,player2)\n",
    "\n"
   ]
  },
  {
   "cell_type": "code",
   "execution_count": 40,
   "id": "99f60e5f-8201-4eda-96c0-00c344460d99",
   "metadata": {},
   "outputs": [
    {
     "name": "stdin",
     "output_type": "stream",
     "text": [
      "Player 1, choose X or O:  X\n"
     ]
    },
    {
     "name": "stdout",
     "output_type": "stream",
     "text": [
      "Player 1 is X and Player 2 is O\n"
     ]
    }
   ],
   "source": [
    "player1_choice, player2_choice = player_input()"
   ]
  },
  {
   "cell_type": "code",
   "execution_count": 41,
   "id": "73c0111a-3fba-4107-a88c-12a77576423a",
   "metadata": {},
   "outputs": [
    {
     "data": {
      "text/plain": [
       "'X'"
      ]
     },
     "execution_count": 41,
     "metadata": {},
     "output_type": "execute_result"
    }
   ],
   "source": [
    "player1_choice"
   ]
  },
  {
   "cell_type": "code",
   "execution_count": 42,
   "id": "2f21915f-d0dd-4378-bd19-c0718fad2289",
   "metadata": {},
   "outputs": [
    {
     "data": {
      "text/plain": [
       "'O'"
      ]
     },
     "execution_count": 42,
     "metadata": {},
     "output_type": "execute_result"
    }
   ],
   "source": [
    "player2_choice"
   ]
  },
  {
   "cell_type": "code",
   "execution_count": 43,
   "id": "4de1888c-2e5a-44e3-8787-71ec0972f68d",
   "metadata": {},
   "outputs": [],
   "source": [
    "def place_marker(board, marker, position):\n",
    "    board[position] = marker\n",
    "\n",
    "    return board \n"
   ]
  },
  {
   "cell_type": "code",
   "execution_count": 44,
   "id": "417396b7-2998-4aa2-963f-01ea820d78fa",
   "metadata": {},
   "outputs": [
    {
     "name": "stdout",
     "output_type": "stream",
     "text": [
      "X | $ | X\n",
      "O | X | O\n",
      "X | O | X\n"
     ]
    }
   ],
   "source": [
    "place_marker(test_board,'$',8)\n",
    "display_board(test_board)"
   ]
  },
  {
   "cell_type": "code",
   "execution_count": 45,
   "id": "b98d0daa-5874-4123-b8aa-591467ea0761",
   "metadata": {},
   "outputs": [],
   "source": [
    "def win_check(board, mark):\n",
    "    if board[1] == board[2] == board[3] == mark:\n",
    "        return True\n",
    "    if board[4] == board[5]== board[6] == mark:\n",
    "        return True\n",
    "    if board[7] == board[8] == board[9] == mark:\n",
    "        return True\n",
    "    if board[1] == board[4] == board[7] == mark:\n",
    "        return True\n",
    "    if board[2] == board[5] == board[8] == mark:\n",
    "        return True\n",
    "    if board[3] == board[6] == board[9] == mark:\n",
    "        return True\n",
    "    if board[1] == board[5] == board[9] == mark:\n",
    "        return True\n",
    "    if board[3] == board[5] == board[7] == mark:\n",
    "        return True\n",
    "    \n"
   ]
  },
  {
   "cell_type": "code",
   "execution_count": 46,
   "id": "30da705e-91a3-4880-9bf3-d3a9d2a26a80",
   "metadata": {},
   "outputs": [
    {
     "data": {
      "text/plain": [
       "True"
      ]
     },
     "execution_count": 46,
     "metadata": {},
     "output_type": "execute_result"
    }
   ],
   "source": [
    "win_check(test_board,'X')"
   ]
  },
  {
   "cell_type": "code",
   "execution_count": 47,
   "id": "6c4e0717-710f-4979-b610-e7cab67921a4",
   "metadata": {},
   "outputs": [],
   "source": [
    "import random\n",
    "\n",
    "def choose_first():\n",
    "    number = random.randint(1, 2)\n",
    "\n",
    "    if number == 1:\n",
    "        return 'Player 1 goes first!'\n",
    "    else:\n",
    "        return 'Player 2 goes first!'"
   ]
  },
  {
   "cell_type": "code",
   "execution_count": 51,
   "id": "6c496ea5-f6f7-4ebf-a395-391e8b21b93d",
   "metadata": {},
   "outputs": [],
   "source": [
    "def space_check(board, position):\n",
    "\n",
    "    return board[position] == ' '"
   ]
  },
  {
   "cell_type": "code",
   "execution_count": 52,
   "id": "3774b0a4-6f6f-465c-86a3-55268de8fb1a",
   "metadata": {},
   "outputs": [],
   "source": [
    "def full_board_check(board):\n",
    "\n",
    "    for i in range(1,10):\n",
    "        if space_check(board,i):\n",
    "            return False\n",
    "\n",
    "    return True"
   ]
  },
  {
   "cell_type": "code",
   "execution_count": 55,
   "id": "18940753-236e-4e2e-a0f9-f0511e7ecb5c",
   "metadata": {},
   "outputs": [],
   "source": [
    "def player_choice(board):\n",
    "    \n",
    "    position = 0\n",
    "\n",
    "    while position not in range(1,10) or not space_check(board, position):\n",
    "        position = int(input('Choose a position: (1-9) ')) \n",
    "\n",
    "    return position"
   ]
  },
  {
   "cell_type": "code",
   "execution_count": null,
   "id": "393b9a0f-dac8-4869-99c4-b8eefe3606d2",
   "metadata": {},
   "outputs": [],
   "source": []
  }
 ],
 "metadata": {
  "kernelspec": {
   "display_name": "Python 3 (ipykernel)",
   "language": "python",
   "name": "python3"
  },
  "language_info": {
   "codemirror_mode": {
    "name": "ipython",
    "version": 3
   },
   "file_extension": ".py",
   "mimetype": "text/x-python",
   "name": "python",
   "nbconvert_exporter": "python",
   "pygments_lexer": "ipython3",
   "version": "3.12.4"
  }
 },
 "nbformat": 4,
 "nbformat_minor": 5
}
