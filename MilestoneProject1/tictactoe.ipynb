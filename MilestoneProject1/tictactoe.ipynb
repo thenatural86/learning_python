{
 "cells": [
  {
   "cell_type": "code",
   "execution_count": 2,
   "id": "f1a080a9-b1a4-422e-a397-17f187eab6b1",
   "metadata": {},
   "outputs": [],
   "source": [
    "from IPython.display import clear_output\n",
    "\n",
    "def display_board(board):\n",
    "    print(board[7] + ' | ' + board[8] + ' | ' + board[9])\n",
    "    print(board[4] + ' | ' + board[5] + ' | ' + board[6])\n",
    "    print(board[1] + ' | ' + board[2] + ' | ' + board[3])\n",
    "    \n"
   ]
  },
  {
   "cell_type": "code",
   "execution_count": 3,
   "id": "f7072efa-f57a-4ef6-b216-2d44d72ac8bd",
   "metadata": {},
   "outputs": [
    {
     "name": "stdout",
     "output_type": "stream",
     "text": [
      "X | O | X\n",
      "O | X | O\n",
      "X | O | X\n"
     ]
    }
   ],
   "source": [
    "test_board = ['#','X','O','X','O','X','O','X','O','X']\n",
    "display_board(test_board)"
   ]
  },
  {
   "cell_type": "code",
   "execution_count": null,
   "id": "619512ef-3900-4867-8b82-918dcd51ecd3",
   "metadata": {},
   "outputs": [],
   "source": []
  }
 ],
 "metadata": {
  "kernelspec": {
   "display_name": "Python 3 (ipykernel)",
   "language": "python",
   "name": "python3"
  },
  "language_info": {
   "codemirror_mode": {
    "name": "ipython",
    "version": 3
   },
   "file_extension": ".py",
   "mimetype": "text/x-python",
   "name": "python",
   "nbconvert_exporter": "python",
   "pygments_lexer": "ipython3",
   "version": "3.9.6"
  }
 },
 "nbformat": 4,
 "nbformat_minor": 5
}
