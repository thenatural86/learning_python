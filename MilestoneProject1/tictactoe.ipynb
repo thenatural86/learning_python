{
 "cells": [
  {
   "cell_type": "code",
   "execution_count": 80,
   "id": "f1a080a9-b1a4-422e-a397-17f187eab6b1",
   "metadata": {},
   "outputs": [],
   "source": [
    "from IPython.display import clear_output\n",
    "\n",
    "def display_board(board):\n",
    "    clear_output()\n",
    "    print(board[7] + ' | ' + board[8] + ' | ' + board[9])\n",
    "    print(board[4] + ' | ' + board[5] + ' | ' + board[6])\n",
    "    print(board[1] + ' | ' + board[2] + ' | ' + board[3])\n",
    "    \n"
   ]
  },
  {
   "cell_type": "code",
   "execution_count": 81,
   "id": "f7072efa-f57a-4ef6-b216-2d44d72ac8bd",
   "metadata": {},
   "outputs": [
    {
     "name": "stdout",
     "output_type": "stream",
     "text": [
      "X | O | X\n",
      "O | X | O\n",
      "X | O | X\n"
     ]
    }
   ],
   "source": [
    "test_board = ['#','X','O','X','O','X','O','X','O','X']\n",
    "display_board(test_board)"
   ]
  },
  {
   "cell_type": "code",
   "execution_count": 82,
   "id": "619512ef-3900-4867-8b82-918dcd51ecd3",
   "metadata": {},
   "outputs": [],
   "source": [
    "def player_input():\n",
    "    marker = ''\n",
    "\n",
    "    while marker != 'X' and marker != 'O':\n",
    "        marker = input(\"Player 1, choose X or O: \").upper()\n",
    "    \n",
    "    if marker == 'X':\n",
    "       return ('X', 'O')\n",
    "    else:\n",
    "       return ('O', 'X')"
   ]
  },
  {
   "cell_type": "code",
   "execution_count": 83,
   "id": "99f60e5f-8201-4eda-96c0-00c344460d99",
   "metadata": {},
   "outputs": [
    {
     "name": "stdout",
     "output_type": "stream",
     "text": [
      "Player 1, choose X or O:  x\n"
     ]
    },
    {
     "data": {
      "text/plain": [
       "('X', 'O')"
      ]
     },
     "execution_count": 83,
     "metadata": {},
     "output_type": "execute_result"
    }
   ],
   "source": [
    "player_input()"
   ]
  },
  {
   "cell_type": "code",
   "execution_count": 84,
   "id": "4de1888c-2e5a-44e3-8787-71ec0972f68d",
   "metadata": {},
   "outputs": [],
   "source": [
    "def place_marker(board, marker, position):\n",
    "    board[position] = marker"
   ]
  },
  {
   "cell_type": "code",
   "execution_count": 85,
   "id": "417396b7-2998-4aa2-963f-01ea820d78fa",
   "metadata": {},
   "outputs": [
    {
     "name": "stdout",
     "output_type": "stream",
     "text": [
      "X | $ | X\n",
      "O | X | O\n",
      "X | O | X\n"
     ]
    }
   ],
   "source": [
    "place_marker(test_board,'$',8)\n",
    "display_board(test_board)"
   ]
  },
  {
   "cell_type": "code",
   "execution_count": 86,
   "id": "b98d0daa-5874-4123-b8aa-591467ea0761",
   "metadata": {},
   "outputs": [],
   "source": [
    "def win_check(board, mark):\n",
    "    if board[1] == board[2] == board[3] == mark:\n",
    "        return True\n",
    "    if board[4] == board[5]== board[6] == mark:\n",
    "        return True\n",
    "    if board[7] == board[8] == board[9] == mark:\n",
    "        return True\n",
    "    if board[1] == board[4] == board[7] == mark:\n",
    "        return True\n",
    "    if board[2] == board[5] == board[8] == mark:\n",
    "        return True\n",
    "    if board[3] == board[6] == board[9] == mark:\n",
    "        return True\n",
    "    if board[1] == board[5] == board[9] == mark:\n",
    "        return True\n",
    "    if board[3] == board[5] == board[7] == mark:\n",
    "        return True\n",
    "    \n"
   ]
  },
  {
   "cell_type": "code",
   "execution_count": 87,
   "id": "30da705e-91a3-4880-9bf3-d3a9d2a26a80",
   "metadata": {},
   "outputs": [
    {
     "data": {
      "text/plain": [
       "True"
      ]
     },
     "execution_count": 87,
     "metadata": {},
     "output_type": "execute_result"
    }
   ],
   "source": [
    "win_check(test_board,'X')"
   ]
  },
  {
   "cell_type": "code",
   "execution_count": 88,
   "id": "6c4e0717-710f-4979-b610-e7cab67921a4",
   "metadata": {},
   "outputs": [],
   "source": [
    "import random\n",
    "\n",
    "def choose_first():\n",
    "    if random.randint(0, 1) == 0:\n",
    "        return 'Player 2'\n",
    "    else:\n",
    "        return 'Player 1'"
   ]
  },
  {
   "cell_type": "code",
   "execution_count": 89,
   "id": "6c496ea5-f6f7-4ebf-a395-391e8b21b93d",
   "metadata": {},
   "outputs": [],
   "source": [
    "def space_check(board, position):\n",
    "\n",
    "    return board[position] == ' '"
   ]
  },
  {
   "cell_type": "code",
   "execution_count": 90,
   "id": "3774b0a4-6f6f-465c-86a3-55268de8fb1a",
   "metadata": {},
   "outputs": [],
   "source": [
    "def full_board_check(board):\n",
    "\n",
    "    for i in range(1,10):\n",
    "        if space_check(board,i):\n",
    "            return False\n",
    "\n",
    "    return True"
   ]
  },
  {
   "cell_type": "code",
   "execution_count": 91,
   "id": "18940753-236e-4e2e-a0f9-f0511e7ecb5c",
   "metadata": {},
   "outputs": [],
   "source": [
    "def player_choice(board):\n",
    "    \n",
    "    position = 0\n",
    "\n",
    "    while position not in range(1,10) or not space_check(board, position):\n",
    "        position = int(input('Choose a position: (1-9) ')) \n",
    "\n",
    "    return position"
   ]
  },
  {
   "cell_type": "code",
   "execution_count": 92,
   "id": "393b9a0f-dac8-4869-99c4-b8eefe3606d2",
   "metadata": {},
   "outputs": [],
   "source": [
    "def replay():\n",
    "\n",
    "    return input('Do you want to play again? Enter Yes or No: ').lower().startswith('y')\n",
    "\n",
    "\n",
    "   "
   ]
  },
  {
   "cell_type": "code",
   "execution_count": 93,
   "id": "6a34e7b2-ba73-4af3-a35c-aab8bfa51281",
   "metadata": {},
   "outputs": [
    {
     "name": "stdout",
     "output_type": "stream",
     "text": [
      "Welcome to Tic Tac Toe!\n"
     ]
    },
    {
     "name": "stdout",
     "output_type": "stream",
     "text": [
      "Player 1, choose X or O:  x\n"
     ]
    },
    {
     "name": "stdout",
     "output_type": "stream",
     "text": [
      "Player 2 will go first\n"
     ]
    },
    {
     "name": "stdout",
     "output_type": "stream",
     "text": [
      "Ready to play? y or n n\n",
      "Do you want to play again? Enter Yes or No:  n\n"
     ]
    }
   ],
   "source": [
    "print('Welcome to Tic Tac Toe!')\n",
    "\n",
    "\n",
    "while True:\n",
    "    # Play the Game\n",
    "\n",
    "    # Set up baord, who's first, markers\n",
    "    the_board = [' ']*10\n",
    "    player1_marker, player2_marker = player_input()\n",
    "\n",
    "    turn = choose_first()\n",
    "    print(turn + ' will go first')\n",
    "\n",
    "    play_game = input('Ready to play? y or n')\n",
    "\n",
    "    if play_game == 'y':\n",
    "        game_on = True\n",
    "    else:\n",
    "        game_on = False\n",
    "\n",
    "    # Game play\n",
    "\n",
    "    while game_on:\n",
    "        if turn == 'Player 1':\n",
    "\n",
    "            # show the board\n",
    "            display_board(the_board)\n",
    "            # choose a position\n",
    "            position = player_choice(the_board)\n",
    "            # place marker on the board\n",
    "            place_marker(the_board, player1_marker, position)\n",
    "            # Check if they won\n",
    "            if win_check(the_board, player1_marker):\n",
    "                display_board(the_board)\n",
    "                print('Congratulations! You have won the game!')\n",
    "                game_on = False\n",
    "            else:\n",
    "                if full_board_check(the_board):\n",
    "                    display_board(the_board)\n",
    "                    print('The game is a draw!')\n",
    "                    break\n",
    "                else:\n",
    "                    turn = 'Player 2'\n",
    "\n",
    "\n",
    "\n",
    "\n",
    "        else:\n",
    "            \n",
    "        # Player 2 turn\n",
    "\n",
    "            # show the board\n",
    "            display_board(the_board)\n",
    "            # choose a position\n",
    "            position = player_choice(the_board)\n",
    "            # place marker on the board\n",
    "            place_marker(the_board, player2_marker, position)\n",
    "            # Check if they won\n",
    "            if win_check(the_board, player2_marker):\n",
    "                display_board(the_board)\n",
    "                print('Congratulations! Player 2 has won the game!')\n",
    "                game_on = False\n",
    "            else:\n",
    "                if full_board_check(the_board):\n",
    "                    display_board(the_board)\n",
    "                    print('The game is a draw!')\n",
    "                    break\n",
    "                else:\n",
    "                    turn = 'Player 1'\n",
    "\n",
    "    if not replay():\n",
    "        break"
   ]
  },
  {
   "cell_type": "code",
   "execution_count": null,
   "id": "23557197-9640-46fa-87ba-eb37b649fb81",
   "metadata": {},
   "outputs": [],
   "source": []
  }
 ],
 "metadata": {
  "kernelspec": {
   "display_name": "Python 3 (ipykernel)",
   "language": "python",
   "name": "python3"
  },
  "language_info": {
   "codemirror_mode": {
    "name": "ipython",
    "version": 3
   },
   "file_extension": ".py",
   "mimetype": "text/x-python",
   "name": "python",
   "nbconvert_exporter": "python",
   "pygments_lexer": "ipython3",
   "version": "3.9.6"
  }
 },
 "nbformat": 4,
 "nbformat_minor": 5
}
