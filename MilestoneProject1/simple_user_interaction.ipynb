{
 "cells": [
  {
   "cell_type": "code",
   "execution_count": 1,
   "metadata": {},
   "outputs": [],
   "source": [
    "game_list = [0,1,2]"
   ]
  },
  {
   "cell_type": "code",
   "execution_count": 2,
   "metadata": {},
   "outputs": [],
   "source": [
    "def display_game(game_list):\n",
    "  print(\"Here in is the current list: \")\n",
    "  print(game_list)"
   ]
  },
  {
   "cell_type": "code",
   "execution_count": 3,
   "metadata": {},
   "outputs": [
    {
     "name": "stdout",
     "output_type": "stream",
     "text": [
      "Here in is the current list: \n",
      "[0, 1, 2]\n"
     ]
    }
   ],
   "source": [
    "display_game(game_list)"
   ]
  },
  {
   "cell_type": "code",
   "execution_count": 4,
   "metadata": {},
   "outputs": [],
   "source": [
    "def position_choice():\n",
    "  \n",
    "  choice = 'wrong'\n",
    "  acceptable_values = ['0', '1', '2']\n",
    "  while choice not in acceptable_values:\n",
    "    \n",
    "    choice = input(\"Pick a position (0,1,2): \")\n",
    "    \n",
    "    if choice not in acceptable_values:\n",
    "      print(\"Sorry, invalid choice! \")\n",
    "      \n",
    "      \n",
    "  return int(choice)\n",
    "  "
   ]
  },
  {
   "cell_type": "code",
   "execution_count": 6,
   "metadata": {},
   "outputs": [
    {
     "name": "stdout",
     "output_type": "stream",
     "text": [
      "Sorry, invalid choice! \n"
     ]
    },
    {
     "data": {
      "text/plain": [
       "2"
      ]
     },
     "execution_count": 6,
     "metadata": {},
     "output_type": "execute_result"
    }
   ],
   "source": [
    "position_choice()"
   ]
  },
  {
   "cell_type": "code",
   "execution_count": 7,
   "metadata": {},
   "outputs": [],
   "source": [
    "def replacement_choice(game_list,position):\n",
    "  \n",
    "  user_placement = input(\"Type of string to place at position: \")\n",
    "  \n",
    "  game_list[position] = user_placement\n",
    "  \n",
    "  return game_list"
   ]
  },
  {
   "cell_type": "code",
   "execution_count": 8,
   "metadata": {},
   "outputs": [
    {
     "data": {
      "text/plain": [
       "[0, 1, '1']"
      ]
     },
     "execution_count": 8,
     "metadata": {},
     "output_type": "execute_result"
    }
   ],
   "source": [
    "replacement_choice(game_list,2)"
   ]
  },
  {
   "cell_type": "code",
   "execution_count": 9,
   "metadata": {},
   "outputs": [],
   "source": [
    "def gameon_choice():\n",
    "  \n",
    "  choice = 'wrong'\n",
    "  acceptable_values = ['Y', 'N']\n",
    "  while choice not in acceptable_values:\n",
    "    \n",
    "    choice = input(\"Keep playing? (Y or N) \")\n",
    "    \n",
    "    if choice not in acceptable_values:\n",
    "      print(\"Sorry, I don't understand, please choose Y or N \")\n",
    "      \n",
    "  if choice == \"Y\":\n",
    "    return True\n",
    "  else:\n",
    "    return False"
   ]
  },
  {
   "cell_type": "code",
   "execution_count": 11,
   "metadata": {},
   "outputs": [
    {
     "data": {
      "text/plain": [
       "False"
      ]
     },
     "execution_count": 11,
     "metadata": {},
     "output_type": "execute_result"
    }
   ],
   "source": [
    "gameon_choice()"
   ]
  },
  {
   "cell_type": "code",
   "execution_count": 14,
   "metadata": {},
   "outputs": [
    {
     "name": "stdout",
     "output_type": "stream",
     "text": [
      "Here in is the current list: \n",
      "[0, 1, 2]\n",
      "Here in is the current list: \n",
      "['my choice', 1, 2]\n",
      "Here in is the current list: \n",
      "['my choice', 1, 2]\n",
      "Here in is the current list: \n",
      "['my choice', 'Test', 2]\n",
      "Here in is the current list: \n",
      "['my choice', 'Test', 2]\n",
      "Sorry, invalid choice! \n",
      "Here in is the current list: \n",
      "['my choice', 'Test', 'Yes']\n"
     ]
    }
   ],
   "source": [
    "game_on = True\n",
    "game_list = [0,1,2]\n",
    "\n",
    "while game_on:\n",
    "  \n",
    "  display_game(game_list)\n",
    "  \n",
    "  position = position_choice()\n",
    "  \n",
    "  game_list = replacement_choice(game_list,position)\n",
    "  \n",
    "  display_game(game_list)\n",
    "  \n",
    "  game_on = gameon_choice()\n"
   ]
  },
  {
   "cell_type": "code",
   "execution_count": null,
   "metadata": {},
   "outputs": [],
   "source": []
  }
 ],
 "metadata": {
  "kernelspec": {
   "display_name": "Python 3",
   "language": "python",
   "name": "python3"
  },
  "language_info": {
   "codemirror_mode": {
    "name": "ipython",
    "version": 3
   },
   "file_extension": ".py",
   "mimetype": "text/x-python",
   "name": "python",
   "nbconvert_exporter": "python",
   "pygments_lexer": "ipython3",
   "version": "3.9.6"
  }
 },
 "nbformat": 4,
 "nbformat_minor": 2
}
