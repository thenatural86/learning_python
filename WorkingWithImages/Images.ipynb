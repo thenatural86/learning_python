{
 "cells": [
  {
   "cell_type": "code",
   "execution_count": 1,
   "id": "a1159f96-bede-4cee-9934-86b5558ccff5",
   "metadata": {},
   "outputs": [],
   "source": [
    "from PIL import Image"
   ]
  },
  {
   "cell_type": "code",
   "execution_count": null,
   "id": "6c97c171-d154-4983-afbd-6f015d00209c",
   "metadata": {},
   "outputs": [],
   "source": [
    "mac = Image.open('example.jpg')"
   ]
  },
  {
   "cell_type": "code",
   "execution_count": null,
   "id": "805659b4-75b5-45ca-8717-c898a4055c3e",
   "metadata": {},
   "outputs": [],
   "source": [
    "type(mac)"
   ]
  },
  {
   "cell_type": "code",
   "execution_count": null,
   "id": "4382da69-3cf8-40b4-b885-b15b26356d57",
   "metadata": {},
   "outputs": [],
   "source": [
    "# (width, height)\n",
    "mac.size"
   ]
  },
  {
   "cell_type": "code",
   "execution_count": null,
   "id": "bc58e29e-2077-45d8-b4d8-62822ba78b04",
   "metadata": {},
   "outputs": [],
   "source": [
    "mac.filename"
   ]
  },
  {
   "cell_type": "code",
   "execution_count": null,
   "id": "313df79f-bcaa-4125-a9f6-b735da2375a4",
   "metadata": {},
   "outputs": [],
   "source": [
    "mac.format_description"
   ]
  },
  {
   "cell_type": "code",
   "execution_count": null,
   "id": "d2f7cfac-77b9-4709-8013-b6861fca223c",
   "metadata": {},
   "outputs": [],
   "source": [
    "mac.crop((0,0,100,100))"
   ]
  },
  {
   "cell_type": "code",
   "execution_count": null,
   "id": "609b2d6b-e620-4fd9-a0cf-0624567c09bd",
   "metadata": {},
   "outputs": [],
   "source": []
  },
  {
   "cell_type": "code",
   "execution_count": null,
   "id": "d761f13f-ff1b-46e1-b54f-31e640d66acd",
   "metadata": {},
   "outputs": [],
   "source": [
    "pencils = Image.open(\"pencils.jpg\")"
   ]
  },
  {
   "cell_type": "code",
   "execution_count": null,
   "id": "aa461957-109f-4a9c-b985-065e1f632abe",
   "metadata": {},
   "outputs": [],
   "source": [
    "pencils"
   ]
  },
  {
   "cell_type": "code",
   "execution_count": null,
   "id": "81912e81-18ff-42de-a184-cae4eb2c4d1a",
   "metadata": {},
   "outputs": [],
   "source": [
    "pencils.size"
   ]
  },
  {
   "cell_type": "code",
   "execution_count": null,
   "id": "391355b8-b6ff-4b1b-a023-a8202138f1b1",
   "metadata": {},
   "outputs": [],
   "source": [
    "# Start at top corner (0,0)\n",
    "x = 0\n",
    "y = 0\n",
    "\n",
    "# Grab about 10% in y direction , and about 30% in x direction\n",
    "w = 1950/3\n",
    "h = 1300/10\n",
    "\n",
    "pencils.crop((x,y,w,h))"
   ]
  },
  {
   "cell_type": "code",
   "execution_count": null,
   "id": "8c230417-1a1e-45f3-974c-e7bb14082db9",
   "metadata": {},
   "outputs": [],
   "source": [
    "pencils.size"
   ]
  },
  {
   "cell_type": "code",
   "execution_count": null,
   "id": "9680bb8f-5606-4842-926b-f8bd29a7932d",
   "metadata": {},
   "outputs": [],
   "source": [
    "x = 0 \n",
    "y = 1100\n",
    "w = 1950/3\n",
    "h = 1300"
   ]
  },
  {
   "cell_type": "code",
   "execution_count": null,
   "id": "e5026c54-0181-41fc-ac38-f0d53e034a2f",
   "metadata": {},
   "outputs": [],
   "source": [
    "pencils.crop((x,y,w,h))"
   ]
  },
  {
   "cell_type": "code",
   "execution_count": null,
   "id": "7829600d-1f1b-47a3-bf14-3877232c04fc",
   "metadata": {},
   "outputs": [],
   "source": [
    "mac.size"
   ]
  },
  {
   "cell_type": "code",
   "execution_count": null,
   "id": "f7ce04b7-13cb-4ed9-be61-2d510f5a0b64",
   "metadata": {},
   "outputs": [],
   "source": [
    "halfway = 1993/2"
   ]
  },
  {
   "cell_type": "code",
   "execution_count": null,
   "id": "f18a0f8b-6634-41e8-b21e-f6a06e1cabd5",
   "metadata": {},
   "outputs": [],
   "source": [
    "x = halfway - 200\n",
    "w = halfway + 200"
   ]
  },
  {
   "cell_type": "code",
   "execution_count": null,
   "id": "3c86bbc5-6562-4acb-8517-cea1c3427b6a",
   "metadata": {},
   "outputs": [],
   "source": [
    "y = 800\n",
    "h = 1257"
   ]
  },
  {
   "cell_type": "code",
   "execution_count": null,
   "id": "bb8927c8-04f3-4b2d-ab53-21384560b7e4",
   "metadata": {},
   "outputs": [],
   "source": [
    "mac.crop((x,y,w,h))"
   ]
  },
  {
   "cell_type": "code",
   "execution_count": 4,
   "id": "d9cbfc6f-09e4-4d87-844f-e4edff368032",
   "metadata": {},
   "outputs": [],
   "source": [
    "# We can create copies with the copy() method and paste images on top of others \n",
    "# with the paste() method."
   ]
  },
  {
   "cell_type": "code",
   "execution_count": null,
   "id": "92b619d6-8b5c-46c4-b42c-0582abdfca72",
   "metadata": {},
   "outputs": [],
   "source": [
    "computer = mac.crop((x,y,w,h))"
   ]
  },
  {
   "cell_type": "code",
   "execution_count": null,
   "id": "f9c1d648-0109-419a-a35e-3882facdb85a",
   "metadata": {},
   "outputs": [],
   "source": [
    "mac.paste(im=computer,box=(0,0))"
   ]
  },
  {
   "cell_type": "code",
   "execution_count": null,
   "id": "808d26d6-62a7-447b-9105-165e94addd91",
   "metadata": {},
   "outputs": [],
   "source": [
    "mac"
   ]
  },
  {
   "cell_type": "code",
   "execution_count": null,
   "id": "6a138003-3846-42b2-9bd0-529de8a779f7",
   "metadata": {},
   "outputs": [],
   "source": [
    "mac.paste(im=computer,box=(796,0))"
   ]
  },
  {
   "cell_type": "code",
   "execution_count": 5,
   "id": "e3bf3240-792a-494a-b4e4-2a3dab43cbbb",
   "metadata": {},
   "outputs": [],
   "source": [
    "# You can use the resize() method to resize an image"
   ]
  },
  {
   "cell_type": "code",
   "execution_count": null,
   "id": "5034bd1c-205a-4a22-8e49-b7f659ec974a",
   "metadata": {},
   "outputs": [],
   "source": [
    "mac.size"
   ]
  },
  {
   "cell_type": "code",
   "execution_count": null,
   "id": "8ba25774-12f9-4679-ba17-7b32548c6a0c",
   "metadata": {},
   "outputs": [],
   "source": [
    "# Note this is not permanent change\n",
    "# for permanent change, do a reassignment\n",
    "# e.g. mac = mac.resize((100,100))\n",
    "mac.resize((new_h,new_w))"
   ]
  },
  {
   "cell_type": "code",
   "execution_count": null,
   "id": "664e23ca-66d6-44a9-ae60-6de50b01404f",
   "metadata": {},
   "outputs": [],
   "source": [
    "# Can also stretch and squeeze\n",
    "mac.resize((3000,500))"
   ]
  },
  {
   "cell_type": "code",
   "execution_count": null,
   "id": "6ba8f387-291b-4a76-bc80-4400b46a054c",
   "metadata": {},
   "outputs": [],
   "source": []
  },
  {
   "cell_type": "code",
   "execution_count": null,
   "id": "456c5c8e-a587-45f5-a48b-9f80229f9507",
   "metadata": {},
   "outputs": [],
   "source": [
    "# You can rotate images by specifying the amount of degrees to rotate on the \n",
    "# rotate() method. The original dimensions will be kept and \"filled\" in with black.\n",
    "# You can optionally pass in the expand parameter to fill the new rotated image to\n",
    "# the old dimensions."
   ]
  },
  {
   "cell_type": "code",
   "execution_count": null,
   "id": "89e4d945-0681-45d3-ba7c-8e3094d934f3",
   "metadata": {},
   "outputs": [],
   "source": [
    "pencils.rotate(90)"
   ]
  },
  {
   "cell_type": "code",
   "execution_count": null,
   "id": "95da22e1-8093-4b2b-be89-027e93028a38",
   "metadata": {},
   "outputs": [],
   "source": [
    "pencils.rotate(90,expand=True)"
   ]
  },
  {
   "cell_type": "code",
   "execution_count": null,
   "id": "63c7c5eb-e5e4-467c-a7e9-ed61893ab546",
   "metadata": {},
   "outputs": [],
   "source": []
  },
  {
   "cell_type": "code",
   "execution_count": null,
   "id": "f177d552-1e7f-4ca5-9dd9-4b7a466e7a02",
   "metadata": {},
   "outputs": [],
   "source": []
  }
 ],
 "metadata": {
  "kernelspec": {
   "display_name": "Python 3 (ipykernel)",
   "language": "python",
   "name": "python3"
  },
  "language_info": {
   "codemirror_mode": {
    "name": "ipython",
    "version": 3
   },
   "file_extension": ".py",
   "mimetype": "text/x-python",
   "name": "python",
   "nbconvert_exporter": "python",
   "pygments_lexer": "ipython3",
   "version": "3.12.4"
  }
 },
 "nbformat": 4,
 "nbformat_minor": 5
}
