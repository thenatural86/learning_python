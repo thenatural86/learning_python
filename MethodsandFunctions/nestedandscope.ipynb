{
 "cells": [
  {
   "cell_type": "code",
   "execution_count": 1,
   "id": "a6e04e78-f93d-4a64-9f84-d65ebcefdb14",
   "metadata": {},
   "outputs": [],
   "source": [
    "x = 25\n",
    "\n",
    "def printer():\n",
    "    x = 50\n",
    "    return x\n",
    "    "
   ]
  },
  {
   "cell_type": "code",
   "execution_count": 2,
   "id": "77e9fbfb-14f0-4dfe-b7ed-756c8608fe22",
   "metadata": {},
   "outputs": [
    {
     "name": "stdout",
     "output_type": "stream",
     "text": [
      "25\n"
     ]
    }
   ],
   "source": [
    "print(x)"
   ]
  },
  {
   "cell_type": "code",
   "execution_count": 3,
   "id": "085a5385-1d9d-4a5f-ae3c-9e9a6101cd51",
   "metadata": {},
   "outputs": [
    {
     "name": "stdout",
     "output_type": "stream",
     "text": [
      "50\n"
     ]
    }
   ],
   "source": [
    "print(printer())"
   ]
  },
  {
   "cell_type": "code",
   "execution_count": 4,
   "id": "e889d587-caab-4f99-8b26-400d88832977",
   "metadata": {},
   "outputs": [],
   "source": [
    "# lambda num:num**2"
   ]
  },
  {
   "cell_type": "code",
   "execution_count": 9,
   "id": "9083bf2d-241b-4cda-bb67-1d1e0b2c6b67",
   "metadata": {},
   "outputs": [],
   "source": [
    "name = 'THIS IS A GLOBAL STRING'\n",
    "\n",
    "def greet():\n",
    "\n",
    "    name = 'Sammy'\n",
    "\n",
    "    def hello():\n",
    "        name = \"I'M A LOCAL\"\n",
    "        print('Hello ' +name)\n",
    "\n",
    "    hello()\n",
    "\n"
   ]
  },
  {
   "cell_type": "code",
   "execution_count": 10,
   "id": "e95c49e5-bf6f-4b6e-9d72-ee2b695709f9",
   "metadata": {},
   "outputs": [
    {
     "name": "stdout",
     "output_type": "stream",
     "text": [
      "Hello I'M A LOCAL\n"
     ]
    }
   ],
   "source": [
    "greet()"
   ]
  },
  {
   "cell_type": "code",
   "execution_count": 23,
   "id": "323ee959-a985-4cfe-b96e-15e25138cfde",
   "metadata": {},
   "outputs": [],
   "source": [
    "x = 50\n",
    "\n",
    "def func(x):\n",
    "    print(f'X is {x}')\n",
    "\n",
    "    # local reassingment on a global variable\n",
    "    x = 'NEW VALUE'\n",
    "    print(f'I JUST locally CHANGED GLOBAL X TO BE {x}')\n",
    "    return x"
   ]
  },
  {
   "cell_type": "code",
   "execution_count": 24,
   "id": "a01da8c5-592b-432a-a90f-773db09d2114",
   "metadata": {},
   "outputs": [
    {
     "name": "stdout",
     "output_type": "stream",
     "text": [
      "50\n"
     ]
    }
   ],
   "source": [
    "print(x)"
   ]
  },
  {
   "cell_type": "code",
   "execution_count": 25,
   "id": "e9e300dd-aa87-47e7-8852-764e73ff9fdf",
   "metadata": {},
   "outputs": [
    {
     "name": "stdout",
     "output_type": "stream",
     "text": [
      "X is 50\n",
      "I JUST locally CHANGED GLOBAL X TO BE NEW VALUE\n"
     ]
    }
   ],
   "source": [
    "x = func(x)"
   ]
  },
  {
   "cell_type": "code",
   "execution_count": 26,
   "id": "9e62fa3d-8861-4eff-a858-a5fd72f9b003",
   "metadata": {},
   "outputs": [
    {
     "name": "stdout",
     "output_type": "stream",
     "text": [
      "NEW VALUE\n"
     ]
    }
   ],
   "source": [
    "print(x)"
   ]
  },
  {
   "cell_type": "code",
   "execution_count": null,
   "id": "18dd763a-4940-4458-9188-2316b1903b6d",
   "metadata": {},
   "outputs": [],
   "source": []
  }
 ],
 "metadata": {
  "kernelspec": {
   "display_name": "Python 3 (ipykernel)",
   "language": "python",
   "name": "python3"
  },
  "language_info": {
   "codemirror_mode": {
    "name": "ipython",
    "version": 3
   },
   "file_extension": ".py",
   "mimetype": "text/x-python",
   "name": "python",
   "nbconvert_exporter": "python",
   "pygments_lexer": "ipython3",
   "version": "3.12.4"
  }
 },
 "nbformat": 4,
 "nbformat_minor": 5
}
