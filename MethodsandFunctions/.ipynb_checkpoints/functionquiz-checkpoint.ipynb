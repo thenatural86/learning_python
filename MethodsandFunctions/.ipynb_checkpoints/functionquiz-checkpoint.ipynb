{
 "cells": [
  {
   "cell_type": "code",
   "execution_count": 153,
   "id": "82304207-deca-4fe8-9056-fc0cf3471806",
   "metadata": {},
   "outputs": [],
   "source": [
    "def lesser_of_two_evens(a,b):\n",
    "    if a % 2 == 0 and b % 2 == 0:\n",
    "        return min(a,b)\n",
    "    else:\n",
    "        return max(a,b)\n",
    "    \n",
    "    #     if a < b:\n",
    "    #         return a\n",
    "    #     else:\n",
    "    #         return b\n",
    "    # else:\n",
    "    #     if a > b:\n",
    "    #         return a\n",
    "    #     else:\n",
    "    #         return b"
   ]
  },
  {
   "cell_type": "code",
   "execution_count": 418,
   "id": "bb192ceb-374a-4393-806b-a13cf4262248",
   "metadata": {},
   "outputs": [
    {
     "data": {
      "text/plain": [
       "2"
      ]
     },
     "execution_count": 418,
     "metadata": {},
     "output_type": "execute_result"
    }
   ],
   "source": [
    "lesser_of_two_evens(2,4)"
   ]
  },
  {
   "cell_type": "code",
   "execution_count": 155,
   "id": "4089d13e-d51a-4037-b468-97454b001919",
   "metadata": {},
   "outputs": [
    {
     "data": {
      "text/plain": [
       "5"
      ]
     },
     "execution_count": 155,
     "metadata": {},
     "output_type": "execute_result"
    }
   ],
   "source": [
    "lesser_of_two_evens(2,5)"
   ]
  },
  {
   "cell_type": "code",
   "execution_count": 187,
   "id": "17a95053-c55d-4240-88a6-91421cd8920c",
   "metadata": {},
   "outputs": [],
   "source": [
    "def animal_crackers(text):\n",
    "    wordlist = text.lower().split()\n",
    "    \n",
    "    return wordlist[0][0] == wordlist[1][0]\n",
    "\n",
    "    \n",
    "    # textArr = []\n",
    "\n",
    "    # for word in text.split():\n",
    "    #     textArr.append(word)\n",
    "    # if textArr[0][0] == textArr[1][0]:\n",
    "    #     return True\n",
    "    # else:\n",
    "    #     return False"
   ]
  },
  {
   "cell_type": "code",
   "execution_count": 190,
   "id": "9903fcd5-bb3e-4765-b83a-4be5a2fcfe57",
   "metadata": {},
   "outputs": [
    {
     "data": {
      "text/plain": [
       "True"
      ]
     },
     "execution_count": 190,
     "metadata": {},
     "output_type": "execute_result"
    }
   ],
   "source": [
    "animal_crackers('Levelheaded lama')"
   ]
  },
  {
   "cell_type": "code",
   "execution_count": 191,
   "id": "23462784-7f63-4c42-81fe-db2eaf4712a8",
   "metadata": {},
   "outputs": [
    {
     "data": {
      "text/plain": [
       "False"
      ]
     },
     "execution_count": 191,
     "metadata": {},
     "output_type": "execute_result"
    }
   ],
   "source": [
    "animal_crackers('Crazy Kangaroo')"
   ]
  },
  {
   "cell_type": "code",
   "execution_count": 197,
   "id": "201bbb33-5e58-4bc8-92e3-0a27e280d4d6",
   "metadata": {},
   "outputs": [],
   "source": [
    "def makes_twenty(n1,n2):\n",
    "    return n1 + n2 == 20 or n1 == 20 or n2 == 20\n",
    "    \n",
    "    # if n1 + n2 == 20: \n",
    "    #     return True\n",
    "    # elif n1 == 20 or n2 == 20:\n",
    "    #     return True\n",
    "    # else: \n",
    "    #     return False"
   ]
  },
  {
   "cell_type": "code",
   "execution_count": 198,
   "id": "6fe08229-1457-4259-a2d2-c5c9a36e0a02",
   "metadata": {},
   "outputs": [
    {
     "data": {
      "text/plain": [
       "True"
      ]
     },
     "execution_count": 198,
     "metadata": {},
     "output_type": "execute_result"
    }
   ],
   "source": [
    "makes_twenty(12,8)"
   ]
  },
  {
   "cell_type": "code",
   "execution_count": 199,
   "id": "cab6ab7c-203b-413b-9ac4-c600b898204e",
   "metadata": {},
   "outputs": [
    {
     "data": {
      "text/plain": [
       "True"
      ]
     },
     "execution_count": 199,
     "metadata": {},
     "output_type": "execute_result"
    }
   ],
   "source": [
    "makes_twenty(20,10)"
   ]
  },
  {
   "cell_type": "code",
   "execution_count": 200,
   "id": "e2d0f9de-1ea9-4dce-98f3-4f063675d5f3",
   "metadata": {},
   "outputs": [
    {
     "data": {
      "text/plain": [
       "False"
      ]
     },
     "execution_count": 200,
     "metadata": {},
     "output_type": "execute_result"
    }
   ],
   "source": [
    "makes_twenty(2,3)"
   ]
  },
  {
   "cell_type": "code",
   "execution_count": 205,
   "id": "145d863e-09a4-43ff-a1d7-a6182def8502",
   "metadata": {},
   "outputs": [],
   "source": [
    "def old_macdonald(name):\n",
    "    first_half = name[:3].capitalize()\n",
    "    second_half = name[3:].capitalize()\n",
    "\n",
    "    return first_half + second_half\n",
    "    \n",
    "    # first_letter = name[0].upper()\n",
    "    # middle_letters = name[1:3]\n",
    "    # fourth_letter = name[3].upper()\n",
    "    # last_letters = name[4:]\n",
    "    # capitalized_name = first_letter + middle_letters + fourth_letter + last_letters"
   ]
  },
  {
   "cell_type": "code",
   "execution_count": 206,
   "id": "4f139674-c8cb-48c8-8dc6-300a94d35997",
   "metadata": {},
   "outputs": [
    {
     "data": {
      "text/plain": [
       "'MacDonald'"
      ]
     },
     "execution_count": 206,
     "metadata": {},
     "output_type": "execute_result"
    }
   ],
   "source": [
    "old_macdonald('macdonald')"
   ]
  },
  {
   "cell_type": "code",
   "execution_count": 226,
   "id": "98390c1f-60fc-4b50-898e-f54f16cc8315",
   "metadata": {},
   "outputs": [],
   "source": [
    "def master_yoda(text):\n",
    "    wordlist =  text.split()\n",
    "\n",
    "    reversed_wordlist = wordlist[::-1]\n",
    "    \" \".join(reversed_wordlist)\n",
    "    \n",
    "    print(\" \".join(reversed_wordlist))"
   ]
  },
  {
   "cell_type": "code",
   "execution_count": 227,
   "id": "4f52c0da-8be7-4708-a795-19c9a3a1e18f",
   "metadata": {},
   "outputs": [
    {
     "name": "stdout",
     "output_type": "stream",
     "text": [
      "home am I\n"
     ]
    }
   ],
   "source": [
    "master_yoda('I am home')"
   ]
  },
  {
   "cell_type": "code",
   "execution_count": 256,
   "id": "26d18cec-2b84-4995-805a-fb0c712947b0",
   "metadata": {},
   "outputs": [],
   "source": [
    "def almost_there(n):\n",
    "    return  (abs(100 - n) <= 10) or (abs(200 - n) <= 10)"
   ]
  },
  {
   "cell_type": "code",
   "execution_count": 257,
   "id": "82fe9c97-227e-44e9-8bcb-8b73ee3bcd4d",
   "metadata": {},
   "outputs": [
    {
     "data": {
      "text/plain": [
       "True"
      ]
     },
     "execution_count": 257,
     "metadata": {},
     "output_type": "execute_result"
    }
   ],
   "source": [
    "almost_there(104)"
   ]
  },
  {
   "cell_type": "code",
   "execution_count": 259,
   "id": "0e7fcac3-be93-4364-b8a3-f41d178518f7",
   "metadata": {},
   "outputs": [
    {
     "data": {
      "text/plain": [
       "False"
      ]
     },
     "execution_count": 259,
     "metadata": {},
     "output_type": "execute_result"
    }
   ],
   "source": [
    "almost_there(150)"
   ]
  },
  {
   "cell_type": "code",
   "execution_count": 260,
   "id": "a951eccb-1399-4701-82bc-c78f4a6da775",
   "metadata": {},
   "outputs": [
    {
     "data": {
      "text/plain": [
       "True"
      ]
     },
     "execution_count": 260,
     "metadata": {},
     "output_type": "execute_result"
    }
   ],
   "source": [
    "almost_there(209)"
   ]
  },
  {
   "cell_type": "code",
   "execution_count": 287,
   "id": "bc50d4eb-4c07-42aa-93ed-6fe8d6c86ff9",
   "metadata": {},
   "outputs": [],
   "source": [
    "def has_33(nums):\n",
    "    for i in range(0, len(nums) - 1):\n",
    "        if nums[i] == 3 and nums[i + 1] == 3:\n",
    "            return True\n",
    "    return False"
   ]
  },
  {
   "cell_type": "code",
   "execution_count": 288,
   "id": "263b4956-502d-4c03-bf7b-d77f64cbd42c",
   "metadata": {},
   "outputs": [
    {
     "data": {
      "text/plain": [
       "True"
      ]
     },
     "execution_count": 288,
     "metadata": {},
     "output_type": "execute_result"
    }
   ],
   "source": [
    "has_33([1, 3, 3])"
   ]
  },
  {
   "cell_type": "code",
   "execution_count": 289,
   "id": "5f29ff27-3a57-41f2-ac3b-3edf9007f6ee",
   "metadata": {},
   "outputs": [
    {
     "data": {
      "text/plain": [
       "False"
      ]
     },
     "execution_count": 289,
     "metadata": {},
     "output_type": "execute_result"
    }
   ],
   "source": [
    "has_33([1, 3, 1, 3])"
   ]
  },
  {
   "cell_type": "code",
   "execution_count": 290,
   "id": "40153b14-fdde-41b4-a723-6aca7d580f85",
   "metadata": {},
   "outputs": [
    {
     "data": {
      "text/plain": [
       "False"
      ]
     },
     "execution_count": 290,
     "metadata": {},
     "output_type": "execute_result"
    }
   ],
   "source": [
    "has_33([3, 1, 3])"
   ]
  },
  {
   "cell_type": "code",
   "execution_count": 306,
   "id": "de65ef17-a738-44fd-81bd-461b50178656",
   "metadata": {},
   "outputs": [],
   "source": [
    "def paper_doll(text):\n",
    "    triple = ''\n",
    "               \n",
    "    for char in text:\n",
    "        triple += char * 3\n",
    "    return triple"
   ]
  },
  {
   "cell_type": "code",
   "execution_count": 307,
   "id": "01c32bb4-2c3f-4541-85a7-663804e81bbe",
   "metadata": {},
   "outputs": [
    {
     "data": {
      "text/plain": [
       "'HHHeeellllllooo'"
      ]
     },
     "execution_count": 307,
     "metadata": {},
     "output_type": "execute_result"
    }
   ],
   "source": [
    "paper_doll('Hello')"
   ]
  },
  {
   "cell_type": "code",
   "execution_count": 359,
   "id": "655d5dc5-def0-46c5-952c-6e405a471925",
   "metadata": {},
   "outputs": [],
   "source": [
    "def blackjack(a,b,c):\n",
    "    x = [a,b,c]\n",
    "    \n",
    "    if sum([a,b,c]) <= 21:\n",
    "        return sum([a,b,c])\n",
    "    elif 11 in [a,b,c] and sum([a,b,c]) <= 31:\n",
    "        return sum([a,b,c]) - 10\n",
    "    else:\n",
    "        return 'BUST'\n",
    "        "
   ]
  },
  {
   "cell_type": "code",
   "execution_count": 360,
   "id": "76201448-c77d-488f-be2a-e14a9e210ab0",
   "metadata": {},
   "outputs": [
    {
     "data": {
      "text/plain": [
       "18"
      ]
     },
     "execution_count": 360,
     "metadata": {},
     "output_type": "execute_result"
    }
   ],
   "source": [
    "blackjack(5,6,7)"
   ]
  },
  {
   "cell_type": "code",
   "execution_count": 361,
   "id": "2a55fe62-66dc-401f-ba55-ec686c9fbce2",
   "metadata": {},
   "outputs": [
    {
     "data": {
      "text/plain": [
       "'BUST'"
      ]
     },
     "execution_count": 361,
     "metadata": {},
     "output_type": "execute_result"
    }
   ],
   "source": [
    "blackjack(9,9,9)"
   ]
  },
  {
   "cell_type": "code",
   "execution_count": 362,
   "id": "79d42c43-4137-46ed-9fde-a3f8858120b1",
   "metadata": {},
   "outputs": [
    {
     "data": {
      "text/plain": [
       "19"
      ]
     },
     "execution_count": 362,
     "metadata": {},
     "output_type": "execute_result"
    }
   ],
   "source": [
    "blackjack(9,9,11)"
   ]
  },
  {
   "cell_type": "code",
   "execution_count": 392,
   "id": "f74f53de-c55f-412e-b75c-6a89f23d21f9",
   "metadata": {},
   "outputs": [],
   "source": [
    "def summer_69(arr):\n",
    "    total = 0\n",
    "    add = True\n",
    "    \n",
    "    for num in arr:\n",
    "        while add:\n",
    "            if num != 6:\n",
    "                total += num\n",
    "                break\n",
    "            else:\n",
    "                add = False\n",
    "        while not add:\n",
    "            if num != 9:\n",
    "                break\n",
    "            else:\n",
    "                add = True\n",
    "                break\n",
    "    return total\n"
   ]
  },
  {
   "cell_type": "code",
   "execution_count": 393,
   "id": "476a9539-447f-44de-ba9a-f5c96de84086",
   "metadata": {},
   "outputs": [
    {
     "data": {
      "text/plain": [
       "9"
      ]
     },
     "execution_count": 393,
     "metadata": {},
     "output_type": "execute_result"
    }
   ],
   "source": [
    "summer_69([1, 3, 5])"
   ]
  },
  {
   "cell_type": "code",
   "execution_count": 394,
   "id": "4936347d-a8c6-433b-9cc4-a8ba9d93f69e",
   "metadata": {},
   "outputs": [
    {
     "data": {
      "text/plain": [
       "9"
      ]
     },
     "execution_count": 394,
     "metadata": {},
     "output_type": "execute_result"
    }
   ],
   "source": [
    "summer_69([4, 5, 6, 7, 8, 9])"
   ]
  },
  {
   "cell_type": "code",
   "execution_count": 395,
   "id": "b2f0f4c3-e222-4dd2-b3a6-49bacb42a47e",
   "metadata": {},
   "outputs": [
    {
     "data": {
      "text/plain": [
       "14"
      ]
     },
     "execution_count": 395,
     "metadata": {},
     "output_type": "execute_result"
    }
   ],
   "source": [
    "summer_69([2, 1, 6, 9, 11])"
   ]
  },
  {
   "cell_type": "code",
   "execution_count": 449,
   "id": "beea44e2-6d96-4bcb-89ed-64f747a20e95",
   "metadata": {},
   "outputs": [],
   "source": [
    "def spy_game(nums):\n",
    "    spy = [0,0,7, 'x']\n",
    "    \n",
    "    for num in nums:\n",
    "        if num == spy[0]:\n",
    "            spy.pop(0)\n",
    "    return len(spy) == 1"
   ]
  },
  {
   "cell_type": "code",
   "execution_count": 450,
   "id": "25dc63af-588d-4eed-99c4-5b3bebcdf481",
   "metadata": {},
   "outputs": [
    {
     "data": {
      "text/plain": [
       "True"
      ]
     },
     "execution_count": 450,
     "metadata": {},
     "output_type": "execute_result"
    }
   ],
   "source": [
    "spy_game([1,2,4,0,0,7,5])"
   ]
  },
  {
   "cell_type": "code",
   "execution_count": 451,
   "id": "0392a2eb-c1b2-433a-8145-62e0d89a638f",
   "metadata": {},
   "outputs": [
    {
     "data": {
      "text/plain": [
       "True"
      ]
     },
     "execution_count": 451,
     "metadata": {},
     "output_type": "execute_result"
    }
   ],
   "source": [
    "spy_game([1,0,2,4,0,5,7])"
   ]
  },
  {
   "cell_type": "code",
   "execution_count": 452,
   "id": "e712da64-0972-475d-837b-06ff86caaf88",
   "metadata": {},
   "outputs": [
    {
     "data": {
      "text/plain": [
       "False"
      ]
     },
     "execution_count": 452,
     "metadata": {},
     "output_type": "execute_result"
    }
   ],
   "source": [
    "spy_game([1,7,2,0,4,5,0])"
   ]
  },
  {
   "cell_type": "code",
   "execution_count": 457,
   "id": "7969c8c5-7a26-4c05-bcf7-d4d623666d3b",
   "metadata": {},
   "outputs": [],
   "source": [
    "def count_primes(num):\n",
    "\n",
    "    # check for 0 or 1 input\n",
    "    if num < 2:\n",
    "        return 0\n",
    "\n",
    "    # 2 or greater\n",
    "    primes = [2]\n",
    "    # Counter going up to the input number\n",
    "    x = 3\n",
    "\n",
    "    # x is going through every number up to input num\n",
    "    while x <= num:\n",
    "        # check if x is prime\n",
    "        for y in range(3,x,2):\n",
    "            if x % y == 0:\n",
    "                x += 2\n",
    "                break\n",
    "        else:\n",
    "            primes.append(x)\n",
    "            x += 2\n",
    "    print(primes)\n",
    "    return len(primes)"
   ]
  },
  {
   "cell_type": "code",
   "execution_count": 459,
   "id": "3022c34b-0b4c-442f-b9a8-2d1f1a27d1b9",
   "metadata": {},
   "outputs": [
    {
     "name": "stdout",
     "output_type": "stream",
     "text": [
      "[2, 3, 5, 7, 11, 13, 17, 19, 23, 29, 31, 37, 41, 43, 47, 53, 59, 61, 67, 71, 73, 79, 83, 89, 97]\n"
     ]
    },
    {
     "data": {
      "text/plain": [
       "25"
      ]
     },
     "execution_count": 459,
     "metadata": {},
     "output_type": "execute_result"
    }
   ],
   "source": [
    "# Check\n",
    "count_primes(100)"
   ]
  },
  {
   "cell_type": "code",
   "execution_count": null,
   "id": "5256e54d-16c0-47b8-9f2e-844ecf8f34c3",
   "metadata": {},
   "outputs": [],
   "source": []
  },
  {
   "cell_type": "code",
   "execution_count": null,
   "id": "69dbd81b-914f-4f9e-a81f-e2d0f78e522a",
   "metadata": {},
   "outputs": [],
   "source": []
  },
  {
   "cell_type": "code",
   "execution_count": null,
   "id": "c84acbec-7b26-4440-b1b8-e258620362e8",
   "metadata": {},
   "outputs": [],
   "source": []
  }
 ],
 "metadata": {
  "kernelspec": {
   "display_name": "Python 3 (ipykernel)",
   "language": "python",
   "name": "python3"
  },
  "language_info": {
   "codemirror_mode": {
    "name": "ipython",
    "version": 3
   },
   "file_extension": ".py",
   "mimetype": "text/x-python",
   "name": "python",
   "nbconvert_exporter": "python",
   "pygments_lexer": "ipython3",
   "version": "3.12.4"
  }
 },
 "nbformat": 4,
 "nbformat_minor": 5
}
