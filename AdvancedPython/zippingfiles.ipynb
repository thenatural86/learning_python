{
 "cells": [
  {
   "cell_type": "code",
   "execution_count": 2,
   "id": "afcce33d-1176-466f-ac02-8b6b375823a9",
   "metadata": {},
   "outputs": [],
   "source": [
    "f = open('fileone.txt', 'w+')\n",
    "f.write('ONE FILE')\n",
    "f.close()"
   ]
  },
  {
   "cell_type": "code",
   "execution_count": 3,
   "id": "f1af5707-fb97-4ac7-8c57-08ff083fb1db",
   "metadata": {},
   "outputs": [],
   "source": [
    "f = open('filetwo.txt', 'w+')\n",
    "f.write('TWO FILE')\n",
    "f.close()"
   ]
  },
  {
   "cell_type": "code",
   "execution_count": 4,
   "id": "a0e55290-4759-48d6-b90a-7207943bb52d",
   "metadata": {},
   "outputs": [],
   "source": [
    "import zipfile"
   ]
  },
  {
   "cell_type": "code",
   "execution_count": 12,
   "id": "683f7fbf-9937-4feb-aff9-07396cda6edf",
   "metadata": {},
   "outputs": [],
   "source": [
    "comp_file = zipfile.ZipFile('comp_file.zip', 'w')"
   ]
  },
  {
   "cell_type": "code",
   "execution_count": 13,
   "id": "422c9899-de56-4f7a-98e3-6cd4a51107d3",
   "metadata": {},
   "outputs": [],
   "source": [
    "comp_file.write('fileone.txt', compress_type=zipfile.ZIP_DEFLATED)"
   ]
  },
  {
   "cell_type": "code",
   "execution_count": 14,
   "id": "a05b1061-8809-4a31-9b5c-6a761ce6fd94",
   "metadata": {},
   "outputs": [],
   "source": [
    "comp_file.write('filetwo.txt', compress_type=zipfile.ZIP_DEFLATED)"
   ]
  },
  {
   "cell_type": "code",
   "execution_count": 15,
   "id": "a5c08306-fae5-44b0-ae82-4cc1cf77d553",
   "metadata": {},
   "outputs": [],
   "source": [
    "comp_file.close()"
   ]
  },
  {
   "cell_type": "code",
   "execution_count": 16,
   "id": "c027c56b-5c19-4f08-827b-07f49d73cb88",
   "metadata": {},
   "outputs": [],
   "source": [
    "zip_obj = zipfile.ZipFile('comp_file.zip','r')"
   ]
  },
  {
   "cell_type": "code",
   "execution_count": 18,
   "id": "e200da36-e50b-4627-926a-76626159207d",
   "metadata": {},
   "outputs": [],
   "source": [
    "zip_obj.extractall('extracted_content')"
   ]
  },
  {
   "cell_type": "code",
   "execution_count": 23,
   "id": "6ccc5c67-6df0-49b3-8079-18e17fc5991e",
   "metadata": {},
   "outputs": [],
   "source": [
    "import shutil"
   ]
  },
  {
   "cell_type": "code",
   "execution_count": 24,
   "id": "6ee8a777-b787-40a8-8334-0a463abbcba8",
   "metadata": {},
   "outputs": [
    {
     "data": {
      "text/plain": [
       "'/Users/philipsmalls/Desktop/LearningPython/AdvancedPython'"
      ]
     },
     "execution_count": 24,
     "metadata": {},
     "output_type": "execute_result"
    }
   ],
   "source": [
    "pwd\n"
   ]
  },
  {
   "cell_type": "code",
   "execution_count": 25,
   "id": "d83abdeb-221c-4dd2-80e4-e1820b6199c8",
   "metadata": {},
   "outputs": [],
   "source": [
    "dir_to_zip = '/Users/philipsmalls/Desktop/LearningPython/AdvancedPython/extracted_content'"
   ]
  },
  {
   "cell_type": "code",
   "execution_count": 26,
   "id": "0fa012d8-021c-45b1-b23b-7d319dde9099",
   "metadata": {},
   "outputs": [],
   "source": [
    "output_filename = 'example'"
   ]
  },
  {
   "cell_type": "code",
   "execution_count": 27,
   "id": "e0061471-24d9-4249-a05f-6ed060ff5e02",
   "metadata": {},
   "outputs": [
    {
     "data": {
      "text/plain": [
       "'/Users/philipsmalls/Desktop/LearningPython/AdvancedPython/example.zip'"
      ]
     },
     "execution_count": 27,
     "metadata": {},
     "output_type": "execute_result"
    }
   ],
   "source": [
    "shutil.make_archive(output_filename, 'zip', dir_to_zip)"
   ]
  },
  {
   "cell_type": "code",
   "execution_count": 28,
   "id": "8091e727-99bb-4c7b-86ea-fd60c51a3de8",
   "metadata": {},
   "outputs": [],
   "source": [
    "shutil.unpack_archive('example.zip', 'final_unzip', 'zip')"
   ]
  },
  {
   "cell_type": "code",
   "execution_count": null,
   "id": "34ebfe9c-4481-46d4-b514-bcd89906c2df",
   "metadata": {},
   "outputs": [],
   "source": []
  }
 ],
 "metadata": {
  "kernelspec": {
   "display_name": "Python 3 (ipykernel)",
   "language": "python",
   "name": "python3"
  },
  "language_info": {
   "codemirror_mode": {
    "name": "ipython",
    "version": 3
   },
   "file_extension": ".py",
   "mimetype": "text/x-python",
   "name": "python",
   "nbconvert_exporter": "python",
   "pygments_lexer": "ipython3",
   "version": "3.12.4"
  }
 },
 "nbformat": 4,
 "nbformat_minor": 5
}
