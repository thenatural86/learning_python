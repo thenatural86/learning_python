{
 "cells": [
  {
   "cell_type": "code",
   "execution_count": 1,
   "id": "5e3878e0-a266-4147-9035-96932a6c9aae",
   "metadata": {},
   "outputs": [
    {
     "data": {
      "text/plain": [
       "'/Users/philipsmalls/Desktop/LearningPython/AdvancedPython'"
      ]
     },
     "execution_count": 1,
     "metadata": {},
     "output_type": "execute_result"
    }
   ],
   "source": [
    "pwd"
   ]
  },
  {
   "cell_type": "code",
   "execution_count": 2,
   "id": "7bccda9d-a514-4ab2-83e3-31f9725d5b21",
   "metadata": {},
   "outputs": [],
   "source": [
    "f = open('practice.txt', 'w+')\n",
    "f.write('This is a test string')\n",
    "f.close()"
   ]
  },
  {
   "cell_type": "code",
   "execution_count": 3,
   "id": "11aed220-4ce0-42c6-be64-5348731a6507",
   "metadata": {},
   "outputs": [],
   "source": [
    "import os"
   ]
  },
  {
   "cell_type": "code",
   "execution_count": 4,
   "id": "93201767-4e6e-4290-a91b-61cd4bedacde",
   "metadata": {},
   "outputs": [
    {
     "data": {
      "text/plain": [
       "'/Users/philipsmalls/Desktop/LearningPython/AdvancedPython'"
      ]
     },
     "execution_count": 4,
     "metadata": {},
     "output_type": "execute_result"
    }
   ],
   "source": [
    "os.getcwd()"
   ]
  },
  {
   "cell_type": "code",
   "execution_count": 16,
   "id": "8fa74d12-b5f8-49a9-aa8c-67e9248f46c7",
   "metadata": {},
   "outputs": [
    {
     "data": {
      "text/plain": [
       "['practice.txt',\n",
       " 'Collections.ipynb',\n",
       " '.ipynb_checkpoints',\n",
       " 'openingandreadingfilea.ipynb']"
      ]
     },
     "execution_count": 16,
     "metadata": {},
     "output_type": "execute_result"
    }
   ],
   "source": [
    "os.listdir()"
   ]
  },
  {
   "cell_type": "code",
   "execution_count": 9,
   "id": "1736c28c-b95c-4815-b4ff-0b8e1e2bb79c",
   "metadata": {},
   "outputs": [],
   "source": [
    "import shutil"
   ]
  },
  {
   "cell_type": "code",
   "execution_count": 14,
   "id": "6c3a8ef4-dfbc-4f6d-8a0c-895e9651bcdd",
   "metadata": {},
   "outputs": [
    {
     "data": {
      "text/plain": [
       "'/Users/philipsmalls/Desktop/LearningPython/AdvancedPython/practice.txt'"
      ]
     },
     "execution_count": 14,
     "metadata": {},
     "output_type": "execute_result"
    }
   ],
   "source": [
    "shutil.move('/Users/philipsmalls/Desktop/practice.txt', os.getcwd())"
   ]
  },
  {
   "cell_type": "code",
   "execution_count": 15,
   "id": "8043743f-c1d9-420b-b302-b15a199823ad",
   "metadata": {},
   "outputs": [
    {
     "data": {
      "text/plain": [
       "'/Users/philipsmalls/Desktop/LearningPython/AdvancedPython'"
      ]
     },
     "execution_count": 15,
     "metadata": {},
     "output_type": "execute_result"
    }
   ],
   "source": [
    "pwd"
   ]
  },
  {
   "cell_type": "code",
   "execution_count": 13,
   "id": "faa0a29d-ea3a-4e63-ae4b-f835f0cb7ed6",
   "metadata": {},
   "outputs": [],
   "source": [
    "import send2trash"
   ]
  },
  {
   "cell_type": "code",
   "execution_count": 17,
   "id": "b26b9aac-91fb-4b5f-83fb-0c0144d037d1",
   "metadata": {},
   "outputs": [],
   "source": [
    "send2trash.send2trash('practice.txt')"
   ]
  },
  {
   "cell_type": "code",
   "execution_count": 18,
   "id": "e562c999-c7bc-46e4-856b-14bbb292fd84",
   "metadata": {},
   "outputs": [
    {
     "data": {
      "text/plain": [
       "['Collections.ipynb', '.ipynb_checkpoints', 'openingandreadingfilea.ipynb']"
      ]
     },
     "execution_count": 18,
     "metadata": {},
     "output_type": "execute_result"
    }
   ],
   "source": [
    "os.listdir()"
   ]
  },
  {
   "cell_type": "code",
   "execution_count": 23,
   "id": "8a9a5830-50ed-44aa-aa99-d137da58d249",
   "metadata": {},
   "outputs": [
    {
     "name": "stdout",
     "output_type": "stream",
     "text": [
      "Currently looking at /Users/philipsmalls/Desktop/LearningPython/AdvancedPython\n",
      "\n",
      "\n",
      "The subfolders are: \n",
      "\tSubfolder: .ipynb_checkpoints\n",
      "\n",
      "\n",
      "the files are: \n",
      "\tFile: Collections.ipynb\n",
      "\tFile: openingandreadingfilea.ipynb\n",
      "\n",
      "\n",
      "Currently looking at /Users/philipsmalls/Desktop/LearningPython/AdvancedPython/.ipynb_checkpoints\n",
      "\n",
      "\n",
      "The subfolders are: \n",
      "\n",
      "\n",
      "the files are: \n",
      "\tFile: practice-checkpoint.txt\n",
      "\tFile: Collections-checkpoint.ipynb\n",
      "\tFile: openingandreadingfilea-checkpoint.ipynb\n",
      "\n",
      "\n"
     ]
    }
   ],
   "source": [
    "file_path = '/Users/philipsmalls/Desktop/LearningPython/AdvancedPython'\n",
    "for folder, sub_folders, files in os.walk(file_path):\n",
    "\n",
    "    print(f\"Currently looking at {folder}\")\n",
    "    print(\"\\n\")\n",
    "    print('The subfolders are: ')\n",
    "    for sub_fold in sub_folders:\n",
    "        print(f\"\\tSubfolder: {sub_fold}\")\n",
    "    print(\"\\n\")\n",
    "    print(\"the files are: \")\n",
    "    for f in files:\n",
    "        print(f\"\\tFile: {f}\")\n",
    "    print(\"\\n\")"
   ]
  },
  {
   "cell_type": "code",
   "execution_count": null,
   "id": "ecd68869-97f4-4eb4-b749-94c198dab186",
   "metadata": {},
   "outputs": [],
   "source": []
  }
 ],
 "metadata": {
  "kernelspec": {
   "display_name": "Python 3 (ipykernel)",
   "language": "python",
   "name": "python3"
  },
  "language_info": {
   "codemirror_mode": {
    "name": "ipython",
    "version": 3
   },
   "file_extension": ".py",
   "mimetype": "text/x-python",
   "name": "python",
   "nbconvert_exporter": "python",
   "pygments_lexer": "ipython3",
   "version": "3.12.4"
  }
 },
 "nbformat": 4,
 "nbformat_minor": 5
}
