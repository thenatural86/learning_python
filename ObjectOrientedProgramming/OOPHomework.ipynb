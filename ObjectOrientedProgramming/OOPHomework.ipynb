{
 "cells": [
  {
   "cell_type": "code",
   "execution_count": 29,
   "id": "87c40053-6d7f-45b7-9484-5f10b5a20f8a",
   "metadata": {},
   "outputs": [],
   "source": [
    "import math\n",
    "\n",
    "class Line:\n",
    "    \n",
    "    def __init__(self,coor1,coor2):\n",
    "        self.coor1 = coor1\n",
    "        self.coor2 =  coor2\n",
    "    \n",
    "    def distance(self): \n",
    "        x1,y1 = self.coor1\n",
    "        x2,y2 = self.coor2\n",
    "\n",
    "        temp = ((x2 - x1) ** 2 + (y2 - y1) ** 2) ** 0.5\n",
    "        return temp\n",
    "        \n",
    "    \n",
    "    def slope(self):\n",
    "        x1,y1 = self.coor1\n",
    "        x2,y2 = self.coor2\n",
    "\n",
    "        return (y2 - y1) / (x2 - x1)\n"
   ]
  },
  {
   "cell_type": "code",
   "execution_count": 30,
   "id": "7d71d9a2-8f71-4efe-9e16-60b26f3a5057",
   "metadata": {},
   "outputs": [],
   "source": [
    "coordinate1 = (3,2)\n",
    "coordinate2 = (8,10)\n",
    "\n",
    "li = Line(coordinate1,coordinate2)"
   ]
  },
  {
   "cell_type": "code",
   "execution_count": 31,
   "id": "6f512edd-d7de-4a55-8611-a05256ddc345",
   "metadata": {},
   "outputs": [
    {
     "data": {
      "text/plain": [
       "9.433981132056603"
      ]
     },
     "execution_count": 31,
     "metadata": {},
     "output_type": "execute_result"
    }
   ],
   "source": [
    "li.distance()"
   ]
  },
  {
   "cell_type": "code",
   "execution_count": 32,
   "id": "d3ee02ed-40c5-4422-966f-8e1a40b84648",
   "metadata": {},
   "outputs": [
    {
     "data": {
      "text/plain": [
       "1.6"
      ]
     },
     "execution_count": 32,
     "metadata": {},
     "output_type": "execute_result"
    }
   ],
   "source": [
    "li.slope()"
   ]
  },
  {
   "cell_type": "code",
   "execution_count": 41,
   "id": "f9718c96-bd07-46cd-a3f2-2590f11768b2",
   "metadata": {},
   "outputs": [],
   "source": [
    "class Cylinder:\n",
    "\n",
    "    def __init__(self,height=1,radius=1):\n",
    "        self.height = height\n",
    "        self.radius = radius\n",
    "\n",
    "\n",
    "    def volume(self):\n",
    "        return 3.14 * (self.radius**2) * self.height\n",
    "        \n",
    "\n",
    "\n",
    "    def surface_area(self):\n",
    "        # 2πrh+2πr2\n",
    "        return (2 *3.14 * self.radius * self.height) + (2 * 3.14 * (self.radius ** 2)) "
   ]
  },
  {
   "cell_type": "code",
   "execution_count": 42,
   "id": "23701cae-f6a5-49f9-845f-a436471336a7",
   "metadata": {},
   "outputs": [],
   "source": [
    "c = Cylinder(2,3)"
   ]
  },
  {
   "cell_type": "code",
   "execution_count": 43,
   "id": "3278c7ae-c062-433a-9092-d1f8b627c33b",
   "metadata": {},
   "outputs": [
    {
     "data": {
      "text/plain": [
       "56.52"
      ]
     },
     "execution_count": 43,
     "metadata": {},
     "output_type": "execute_result"
    }
   ],
   "source": [
    "c.volume()"
   ]
  },
  {
   "cell_type": "code",
   "execution_count": 44,
   "id": "3744f5d2-6b6d-4d22-bf15-87f914e0b4b5",
   "metadata": {},
   "outputs": [
    {
     "data": {
      "text/plain": [
       "94.2"
      ]
     },
     "execution_count": 44,
     "metadata": {},
     "output_type": "execute_result"
    }
   ],
   "source": [
    "c.surface_area()"
   ]
  },
  {
   "cell_type": "code",
   "execution_count": null,
   "id": "4eac23cc-c9af-49c0-9bb9-4690472afa20",
   "metadata": {},
   "outputs": [],
   "source": []
  }
 ],
 "metadata": {
  "kernelspec": {
   "display_name": "Python 3 (ipykernel)",
   "language": "python",
   "name": "python3"
  },
  "language_info": {
   "codemirror_mode": {
    "name": "ipython",
    "version": 3
   },
   "file_extension": ".py",
   "mimetype": "text/x-python",
   "name": "python",
   "nbconvert_exporter": "python",
   "pygments_lexer": "ipython3",
   "version": "3.12.4"
  }
 },
 "nbformat": 4,
 "nbformat_minor": 5
}
